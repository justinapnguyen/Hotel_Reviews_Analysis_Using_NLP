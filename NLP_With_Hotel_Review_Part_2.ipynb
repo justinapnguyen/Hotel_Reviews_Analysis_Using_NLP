{
 "cells": [
  {
   "cell_type": "markdown",
   "id": "c624f5fe-f8bf-4c42-a5dd-81e177d1aa4b",
   "metadata": {
    "tags": []
   },
   "source": [
    "# NLP With Hotel Review\n",
    "\n",
    "## Part 2: Machine Learning Models"
   ]
  },
  {
   "cell_type": "markdown",
   "id": "6d6c54ca-31f9-42fb-aa63-1ac212583ebe",
   "metadata": {},
   "source": [
    "**Justina Nguyen<br>\n",
    "05 June 2023<br>\n",
    "BrainStation**"
   ]
  },
  {
   "cell_type": "markdown",
   "id": "c3b6b574-35c0-497b-9962-6c9187bbb8ab",
   "metadata": {
    "tags": []
   },
   "source": [
    "## Introduction"
   ]
  },
  {
   "cell_type": "markdown",
   "id": "735477a5-aa5f-47fd-9dee-cd279928b063",
   "metadata": {},
   "source": [
    "In this notebook, we will continue doing NLP with Hotel Reviews.\n",
    "\n",
    "This notebook focuses on Part 2 of the project, namely using different machine learning models to correctly label the sentiment behind hotel reviews"
   ]
  },
  {
   "cell_type": "markdown",
   "id": "3569d7f4-1693-4123-ad89-d46a1ac09aaa",
   "metadata": {
    "tags": []
   },
   "source": [
    "***\n",
    "\n",
    "## Table of Contents <a class=\"anchor\" id=\"toc\"></a>\n",
    "\n",
    "- [The Dataset](#the-dataset)\n",
    "- [Modeling](#modeling)\n",
    "    - [Defining the independent and dependent variables](#variables)\n",
    "    - [Scaling the Data](#scaling)\n",
    "    - [Logisitic Regression](#log-reg)\n",
    "    - [K-Nearest Neighbors](#knn)\n",
    "    - [Decision Trees](#dt)\n",
    "    - [Purpose of Validation Sets](#val-sets)\n",
    "    - [5-fold Cross Calidation on a Logistic Regression Model](#5-fold)\n",
    "    - [Confusion Matrix](#confusion-matrix)\n",
    "    - [Creating a New Feature](#new-feature)\n",
    "- [Conclusion](#conclusion)\n",
    "***"
   ]
  },
  {
   "cell_type": "markdown",
   "id": "b6b4ed06-7a49-4bf2-aa1e-2ed8059f3fd1",
   "metadata": {
    "tags": []
   },
   "source": [
    "## The Dataset <a class=\"anchor\" id=\"the-dataset\"></a>\n",
    "\n",
    "Let's import the relevant packages to analyze the data."
   ]
  },
  {
   "cell_type": "code",
   "execution_count": 1,
   "id": "ac5e4a63-7b19-4a79-99ad-1f320e420e53",
   "metadata": {},
   "outputs": [],
   "source": [
    "import numpy as np\n",
    "import pandas as pd\n",
    "import matplotlib.pyplot as plt\n",
    "from sklearn.model_selection import train_test_split\n",
    "from sklearn.model_selection import cross_val_score\n",
    "from sklearn.linear_model import LogisticRegression\n",
    "from sklearn.decomposition import PCA\n",
    "from sklearn.neighbors import KNeighborsClassifier\n",
    "from sklearn.tree import DecisionTreeClassifier\n",
    "from sklearn.preprocessing import StandardScaler\n",
    "from sklearn.metrics import confusion_matrix, ConfusionMatrixDisplay\n",
    "from sklearn.metrics import classification_report\n",
    "import time"
   ]
  },
  {
   "cell_type": "markdown",
   "id": "097239cd-1687-4fbb-8611-6f89a83b8ba7",
   "metadata": {},
   "source": [
    "Now, let's read the data and take a first look at the dataset."
   ]
  },
  {
   "cell_type": "code",
   "execution_count": 3,
   "id": "8b4d1cc0-5e6e-47dd-951c-871d8f8b4f70",
   "metadata": {},
   "outputs": [],
   "source": [
    "# Reading the csv file into a dataframe\n",
    "train = pd.read_csv('./clean_train_dataframe.csv')\n",
    "test = pd.read_csv('./clean_test_dataframe.csv')"
   ]
  },
  {
   "cell_type": "code",
   "execution_count": 4,
   "id": "1d711dcc-3d9b-4199-8640-a3147a621e79",
   "metadata": {},
   "outputs": [
    {
     "data": {
      "text/html": [
       "<div>\n",
       "<style scoped>\n",
       "    .dataframe tbody tr th:only-of-type {\n",
       "        vertical-align: middle;\n",
       "    }\n",
       "\n",
       "    .dataframe tbody tr th {\n",
       "        vertical-align: top;\n",
       "    }\n",
       "\n",
       "    .dataframe thead th {\n",
       "        text-align: right;\n",
       "    }\n",
       "</style>\n",
       "<table border=\"1\" class=\"dataframe\">\n",
       "  <thead>\n",
       "    <tr style=\"text-align: right;\">\n",
       "      <th></th>\n",
       "      <th>Additional_Number_of_Scoring</th>\n",
       "      <th>Average_Score</th>\n",
       "      <th>Review_Total_Negative_Word_Counts</th>\n",
       "      <th>Total_Number_of_Reviews</th>\n",
       "      <th>Review_Total_Positive_Word_Counts</th>\n",
       "      <th>Total_Number_of_Reviews_Reviewer_Has_Given</th>\n",
       "      <th>days_since_review</th>\n",
       "      <th>lat</th>\n",
       "      <th>lng</th>\n",
       "      <th>weekday_of_review</th>\n",
       "      <th>...</th>\n",
       "      <th>n_worry</th>\n",
       "      <th>n_worth</th>\n",
       "      <th>n_would</th>\n",
       "      <th>n_write</th>\n",
       "      <th>n_wrong</th>\n",
       "      <th>n_year</th>\n",
       "      <th>n_yes</th>\n",
       "      <th>n_yet</th>\n",
       "      <th>n_young</th>\n",
       "      <th>rating</th>\n",
       "    </tr>\n",
       "  </thead>\n",
       "  <tbody>\n",
       "    <tr>\n",
       "      <th>0</th>\n",
       "      <td>620</td>\n",
       "      <td>9.0</td>\n",
       "      <td>0</td>\n",
       "      <td>1974</td>\n",
       "      <td>164</td>\n",
       "      <td>1</td>\n",
       "      <td>562</td>\n",
       "      <td>51.506558</td>\n",
       "      <td>-0.004514</td>\n",
       "      <td>1</td>\n",
       "      <td>...</td>\n",
       "      <td>0</td>\n",
       "      <td>0</td>\n",
       "      <td>0</td>\n",
       "      <td>0</td>\n",
       "      <td>0</td>\n",
       "      <td>0</td>\n",
       "      <td>0</td>\n",
       "      <td>0</td>\n",
       "      <td>0</td>\n",
       "      <td>1</td>\n",
       "    </tr>\n",
       "    <tr>\n",
       "      <th>1</th>\n",
       "      <td>1258</td>\n",
       "      <td>9.4</td>\n",
       "      <td>6</td>\n",
       "      <td>4204</td>\n",
       "      <td>4</td>\n",
       "      <td>5</td>\n",
       "      <td>276</td>\n",
       "      <td>51.502435</td>\n",
       "      <td>-0.000250</td>\n",
       "      <td>0</td>\n",
       "      <td>...</td>\n",
       "      <td>0</td>\n",
       "      <td>0</td>\n",
       "      <td>0</td>\n",
       "      <td>0</td>\n",
       "      <td>0</td>\n",
       "      <td>0</td>\n",
       "      <td>0</td>\n",
       "      <td>0</td>\n",
       "      <td>0</td>\n",
       "      <td>1</td>\n",
       "    </tr>\n",
       "    <tr>\n",
       "      <th>2</th>\n",
       "      <td>995</td>\n",
       "      <td>8.1</td>\n",
       "      <td>2</td>\n",
       "      <td>3826</td>\n",
       "      <td>38</td>\n",
       "      <td>1</td>\n",
       "      <td>129</td>\n",
       "      <td>51.504348</td>\n",
       "      <td>-0.033444</td>\n",
       "      <td>0</td>\n",
       "      <td>...</td>\n",
       "      <td>0</td>\n",
       "      <td>0</td>\n",
       "      <td>0</td>\n",
       "      <td>0</td>\n",
       "      <td>0</td>\n",
       "      <td>0</td>\n",
       "      <td>0</td>\n",
       "      <td>0</td>\n",
       "      <td>0</td>\n",
       "      <td>1</td>\n",
       "    </tr>\n",
       "    <tr>\n",
       "      <th>3</th>\n",
       "      <td>853</td>\n",
       "      <td>8.4</td>\n",
       "      <td>7</td>\n",
       "      <td>2726</td>\n",
       "      <td>10</td>\n",
       "      <td>10</td>\n",
       "      <td>164</td>\n",
       "      <td>51.507377</td>\n",
       "      <td>0.038657</td>\n",
       "      <td>0</td>\n",
       "      <td>...</td>\n",
       "      <td>0</td>\n",
       "      <td>0</td>\n",
       "      <td>0</td>\n",
       "      <td>0</td>\n",
       "      <td>0</td>\n",
       "      <td>0</td>\n",
       "      <td>0</td>\n",
       "      <td>0</td>\n",
       "      <td>0</td>\n",
       "      <td>0</td>\n",
       "    </tr>\n",
       "    <tr>\n",
       "      <th>4</th>\n",
       "      <td>1243</td>\n",
       "      <td>8.1</td>\n",
       "      <td>11</td>\n",
       "      <td>6608</td>\n",
       "      <td>8</td>\n",
       "      <td>69</td>\n",
       "      <td>639</td>\n",
       "      <td>51.513556</td>\n",
       "      <td>-0.180002</td>\n",
       "      <td>1</td>\n",
       "      <td>...</td>\n",
       "      <td>0</td>\n",
       "      <td>0</td>\n",
       "      <td>0</td>\n",
       "      <td>0</td>\n",
       "      <td>0</td>\n",
       "      <td>0</td>\n",
       "      <td>0</td>\n",
       "      <td>0</td>\n",
       "      <td>0</td>\n",
       "      <td>0</td>\n",
       "    </tr>\n",
       "  </tbody>\n",
       "</table>\n",
       "<p>5 rows × 2744 columns</p>\n",
       "</div>"
      ],
      "text/plain": [
       "   Additional_Number_of_Scoring  Average_Score  \\\n",
       "0                           620            9.0   \n",
       "1                          1258            9.4   \n",
       "2                           995            8.1   \n",
       "3                           853            8.4   \n",
       "4                          1243            8.1   \n",
       "\n",
       "   Review_Total_Negative_Word_Counts  Total_Number_of_Reviews  \\\n",
       "0                                  0                     1974   \n",
       "1                                  6                     4204   \n",
       "2                                  2                     3826   \n",
       "3                                  7                     2726   \n",
       "4                                 11                     6608   \n",
       "\n",
       "   Review_Total_Positive_Word_Counts  \\\n",
       "0                                164   \n",
       "1                                  4   \n",
       "2                                 38   \n",
       "3                                 10   \n",
       "4                                  8   \n",
       "\n",
       "   Total_Number_of_Reviews_Reviewer_Has_Given  days_since_review        lat  \\\n",
       "0                                           1                562  51.506558   \n",
       "1                                           5                276  51.502435   \n",
       "2                                           1                129  51.504348   \n",
       "3                                          10                164  51.507377   \n",
       "4                                          69                639  51.513556   \n",
       "\n",
       "        lng  weekday_of_review  ...  n_worry  n_worth  n_would  n_write  \\\n",
       "0 -0.004514                  1  ...        0        0        0        0   \n",
       "1 -0.000250                  0  ...        0        0        0        0   \n",
       "2 -0.033444                  0  ...        0        0        0        0   \n",
       "3  0.038657                  0  ...        0        0        0        0   \n",
       "4 -0.180002                  1  ...        0        0        0        0   \n",
       "\n",
       "   n_wrong  n_year  n_yes  n_yet  n_young  rating  \n",
       "0        0       0      0      0        0       1  \n",
       "1        0       0      0      0        0       1  \n",
       "2        0       0      0      0        0       1  \n",
       "3        0       0      0      0        0       0  \n",
       "4        0       0      0      0        0       0  \n",
       "\n",
       "[5 rows x 2744 columns]"
      ]
     },
     "execution_count": 4,
     "metadata": {},
     "output_type": "execute_result"
    }
   ],
   "source": [
    "# Checking the first 5 rows of the train dataframe\n",
    "train.head()"
   ]
  },
  {
   "cell_type": "code",
   "execution_count": 5,
   "id": "40394daa-9ef5-43fe-a101-facd0b53670b",
   "metadata": {},
   "outputs": [
    {
     "data": {
      "text/html": [
       "<div>\n",
       "<style scoped>\n",
       "    .dataframe tbody tr th:only-of-type {\n",
       "        vertical-align: middle;\n",
       "    }\n",
       "\n",
       "    .dataframe tbody tr th {\n",
       "        vertical-align: top;\n",
       "    }\n",
       "\n",
       "    .dataframe thead th {\n",
       "        text-align: right;\n",
       "    }\n",
       "</style>\n",
       "<table border=\"1\" class=\"dataframe\">\n",
       "  <thead>\n",
       "    <tr style=\"text-align: right;\">\n",
       "      <th></th>\n",
       "      <th>Additional_Number_of_Scoring</th>\n",
       "      <th>Average_Score</th>\n",
       "      <th>Review_Total_Negative_Word_Counts</th>\n",
       "      <th>Total_Number_of_Reviews</th>\n",
       "      <th>Review_Total_Positive_Word_Counts</th>\n",
       "      <th>Total_Number_of_Reviews_Reviewer_Has_Given</th>\n",
       "      <th>days_since_review</th>\n",
       "      <th>lat</th>\n",
       "      <th>lng</th>\n",
       "      <th>weekday_of_review</th>\n",
       "      <th>...</th>\n",
       "      <th>n_worry</th>\n",
       "      <th>n_worth</th>\n",
       "      <th>n_would</th>\n",
       "      <th>n_write</th>\n",
       "      <th>n_wrong</th>\n",
       "      <th>n_year</th>\n",
       "      <th>n_yes</th>\n",
       "      <th>n_yet</th>\n",
       "      <th>n_young</th>\n",
       "      <th>rating</th>\n",
       "    </tr>\n",
       "  </thead>\n",
       "  <tbody>\n",
       "    <tr>\n",
       "      <th>0</th>\n",
       "      <td>1005</td>\n",
       "      <td>8.3</td>\n",
       "      <td>0</td>\n",
       "      <td>3469</td>\n",
       "      <td>6</td>\n",
       "      <td>2</td>\n",
       "      <td>297</td>\n",
       "      <td>51.559096</td>\n",
       "      <td>-0.284704</td>\n",
       "      <td>0</td>\n",
       "      <td>...</td>\n",
       "      <td>0</td>\n",
       "      <td>0</td>\n",
       "      <td>0</td>\n",
       "      <td>0</td>\n",
       "      <td>0</td>\n",
       "      <td>0</td>\n",
       "      <td>0</td>\n",
       "      <td>0</td>\n",
       "      <td>0</td>\n",
       "      <td>0</td>\n",
       "    </tr>\n",
       "    <tr>\n",
       "      <th>1</th>\n",
       "      <td>487</td>\n",
       "      <td>8.8</td>\n",
       "      <td>46</td>\n",
       "      <td>1805</td>\n",
       "      <td>121</td>\n",
       "      <td>1</td>\n",
       "      <td>4</td>\n",
       "      <td>51.474469</td>\n",
       "      <td>-0.019428</td>\n",
       "      <td>6</td>\n",
       "      <td>...</td>\n",
       "      <td>0</td>\n",
       "      <td>0</td>\n",
       "      <td>0</td>\n",
       "      <td>0</td>\n",
       "      <td>0</td>\n",
       "      <td>0</td>\n",
       "      <td>0</td>\n",
       "      <td>0</td>\n",
       "      <td>0</td>\n",
       "      <td>1</td>\n",
       "    </tr>\n",
       "    <tr>\n",
       "      <th>2</th>\n",
       "      <td>570</td>\n",
       "      <td>9.3</td>\n",
       "      <td>0</td>\n",
       "      <td>2319</td>\n",
       "      <td>9</td>\n",
       "      <td>1</td>\n",
       "      <td>590</td>\n",
       "      <td>51.505696</td>\n",
       "      <td>-0.101525</td>\n",
       "      <td>1</td>\n",
       "      <td>...</td>\n",
       "      <td>0</td>\n",
       "      <td>0</td>\n",
       "      <td>0</td>\n",
       "      <td>0</td>\n",
       "      <td>0</td>\n",
       "      <td>0</td>\n",
       "      <td>0</td>\n",
       "      <td>0</td>\n",
       "      <td>0</td>\n",
       "      <td>1</td>\n",
       "    </tr>\n",
       "    <tr>\n",
       "      <th>3</th>\n",
       "      <td>2623</td>\n",
       "      <td>8.7</td>\n",
       "      <td>19</td>\n",
       "      <td>12158</td>\n",
       "      <td>0</td>\n",
       "      <td>2</td>\n",
       "      <td>269</td>\n",
       "      <td>51.500961</td>\n",
       "      <td>-0.116591</td>\n",
       "      <td>0</td>\n",
       "      <td>...</td>\n",
       "      <td>0</td>\n",
       "      <td>0</td>\n",
       "      <td>0</td>\n",
       "      <td>0</td>\n",
       "      <td>0</td>\n",
       "      <td>0</td>\n",
       "      <td>0</td>\n",
       "      <td>0</td>\n",
       "      <td>0</td>\n",
       "      <td>0</td>\n",
       "    </tr>\n",
       "    <tr>\n",
       "      <th>4</th>\n",
       "      <td>365</td>\n",
       "      <td>8.1</td>\n",
       "      <td>13</td>\n",
       "      <td>1567</td>\n",
       "      <td>0</td>\n",
       "      <td>2</td>\n",
       "      <td>373</td>\n",
       "      <td>51.515125</td>\n",
       "      <td>-0.160066</td>\n",
       "      <td>1</td>\n",
       "      <td>...</td>\n",
       "      <td>0</td>\n",
       "      <td>0</td>\n",
       "      <td>0</td>\n",
       "      <td>0</td>\n",
       "      <td>0</td>\n",
       "      <td>0</td>\n",
       "      <td>0</td>\n",
       "      <td>0</td>\n",
       "      <td>0</td>\n",
       "      <td>0</td>\n",
       "    </tr>\n",
       "  </tbody>\n",
       "</table>\n",
       "<p>5 rows × 2744 columns</p>\n",
       "</div>"
      ],
      "text/plain": [
       "   Additional_Number_of_Scoring  Average_Score  \\\n",
       "0                          1005            8.3   \n",
       "1                           487            8.8   \n",
       "2                           570            9.3   \n",
       "3                          2623            8.7   \n",
       "4                           365            8.1   \n",
       "\n",
       "   Review_Total_Negative_Word_Counts  Total_Number_of_Reviews  \\\n",
       "0                                  0                     3469   \n",
       "1                                 46                     1805   \n",
       "2                                  0                     2319   \n",
       "3                                 19                    12158   \n",
       "4                                 13                     1567   \n",
       "\n",
       "   Review_Total_Positive_Word_Counts  \\\n",
       "0                                  6   \n",
       "1                                121   \n",
       "2                                  9   \n",
       "3                                  0   \n",
       "4                                  0   \n",
       "\n",
       "   Total_Number_of_Reviews_Reviewer_Has_Given  days_since_review        lat  \\\n",
       "0                                           2                297  51.559096   \n",
       "1                                           1                  4  51.474469   \n",
       "2                                           1                590  51.505696   \n",
       "3                                           2                269  51.500961   \n",
       "4                                           2                373  51.515125   \n",
       "\n",
       "        lng  weekday_of_review  ...  n_worry  n_worth  n_would  n_write  \\\n",
       "0 -0.284704                  0  ...        0        0        0        0   \n",
       "1 -0.019428                  6  ...        0        0        0        0   \n",
       "2 -0.101525                  1  ...        0        0        0        0   \n",
       "3 -0.116591                  0  ...        0        0        0        0   \n",
       "4 -0.160066                  1  ...        0        0        0        0   \n",
       "\n",
       "   n_wrong  n_year  n_yes  n_yet  n_young  rating  \n",
       "0        0       0      0      0        0       0  \n",
       "1        0       0      0      0        0       1  \n",
       "2        0       0      0      0        0       1  \n",
       "3        0       0      0      0        0       0  \n",
       "4        0       0      0      0        0       0  \n",
       "\n",
       "[5 rows x 2744 columns]"
      ]
     },
     "execution_count": 5,
     "metadata": {},
     "output_type": "execute_result"
    }
   ],
   "source": [
    "# Checking the first 5 rows of the test dataframe\n",
    "test.head()"
   ]
  },
  {
   "cell_type": "code",
   "execution_count": 6,
   "id": "b463d891-46cb-4dc2-a995-214a2b582e20",
   "metadata": {},
   "outputs": [
    {
     "name": "stdout",
     "output_type": "stream",
     "text": [
      "The train dataset has 12798 rows and 2744 columns.\n",
      "The test dataset has 4267 rows and 2744 columns.\n"
     ]
    }
   ],
   "source": [
    "# Checking shape of train and test dataframes\n",
    "print(f'The train dataset has {train.shape[0]} rows and {train.shape[1]} columns.')\n",
    "print(f'The test dataset has {test.shape[0]} rows and {test.shape[1]} columns.')"
   ]
  },
  {
   "cell_type": "code",
   "execution_count": 7,
   "id": "559e39a8-0fff-481b-a9d1-f1844e2c4890",
   "metadata": {},
   "outputs": [
    {
     "name": "stdout",
     "output_type": "stream",
     "text": [
      "<class 'pandas.core.frame.DataFrame'>\n",
      "RangeIndex: 12798 entries, 0 to 12797\n",
      "Columns: 2744 entries, Additional_Number_of_Scoring to rating\n",
      "dtypes: float64(3), int64(2741)\n",
      "memory usage: 267.9 MB\n"
     ]
    }
   ],
   "source": [
    "# Checking train dataframe info\n",
    "train.info()"
   ]
  },
  {
   "cell_type": "code",
   "execution_count": 8,
   "id": "bc9ea8b4-5108-420c-8cab-0c350baf9253",
   "metadata": {},
   "outputs": [
    {
     "name": "stdout",
     "output_type": "stream",
     "text": [
      "<class 'pandas.core.frame.DataFrame'>\n",
      "RangeIndex: 4267 entries, 0 to 4266\n",
      "Columns: 2744 entries, Additional_Number_of_Scoring to rating\n",
      "dtypes: float64(3), int64(2741)\n",
      "memory usage: 89.3 MB\n"
     ]
    }
   ],
   "source": [
    "# Checking test dataframe info\n",
    "test.info()"
   ]
  },
  {
   "cell_type": "markdown",
   "id": "adf0891a-3e2e-4a31-96dd-ca4d5ea06ae6",
   "metadata": {},
   "source": [
    "We also want to check if there are any missing or duplicated values."
   ]
  },
  {
   "cell_type": "code",
   "execution_count": 9,
   "id": "caa30425-21ce-4baf-88ea-0c249487788f",
   "metadata": {},
   "outputs": [
    {
     "name": "stdout",
     "output_type": "stream",
     "text": [
      "The train dataset has 0 null values.\n",
      "The test dataset has 0 null values.\n"
     ]
    }
   ],
   "source": [
    "# Checking for null values\n",
    "print(f'The train dataset has {train.isnull().sum().sum()} null values.')\n",
    "print(f'The test dataset has {test.isnull().sum().sum()} null values.')"
   ]
  },
  {
   "cell_type": "code",
   "execution_count": 10,
   "id": "9a94d328-97d9-4570-9f89-8615fe4821c4",
   "metadata": {},
   "outputs": [
    {
     "name": "stdout",
     "output_type": "stream",
     "text": [
      "The train dataset has 0 duplicated rows.\n",
      "The test dataset has 0 duplicated rows.\n"
     ]
    }
   ],
   "source": [
    "# Checking for duplicated rows\n",
    "print(f'The train dataset has {train.duplicated().sum()} duplicated rows.')\n",
    "print(f'The test dataset has {test.duplicated().sum()} duplicated rows.')"
   ]
  },
  {
   "cell_type": "code",
   "execution_count": 11,
   "id": "212b246c-0f23-4497-9018-dbc512839096",
   "metadata": {},
   "outputs": [
    {
     "name": "stdout",
     "output_type": "stream",
     "text": [
      "The train dataset has 8 duplicated columns.\n",
      "The test dataset has 56 duplicated columns.\n"
     ]
    }
   ],
   "source": [
    "# Checking for duplicate columns\n",
    "print(f'The train dataset has {train.T.duplicated().sum()} duplicated columns.')\n",
    "print(f'The test dataset has {test.T.duplicated().sum()} duplicated columns.')"
   ]
  },
  {
   "cell_type": "code",
   "execution_count": 12,
   "id": "f0b0ed27-7fcf-4981-bd6e-fd8f1b04b235",
   "metadata": {},
   "outputs": [
    {
     "data": {
      "text/plain": [
       "Index(['bed_double', 'bed_queen', 'bed_king', 'group_solo', 'group_family',\n",
       "       'Hotel_Name_Bulgari Hotel London',\n",
       "       'Hotel_Name_Grosvenor House Suites by Jumeirah Living',\n",
       "       'Hotel_Name_The Zetter Townhouse Marylebone'],\n",
       "      dtype='object')"
      ]
     },
     "execution_count": 12,
     "metadata": {},
     "output_type": "execute_result"
    }
   ],
   "source": [
    "# Getting the duplicated column names\n",
    "train.columns[train.T.duplicated()]"
   ]
  },
  {
   "cell_type": "code",
   "execution_count": 13,
   "id": "e24f07d9-b11f-410d-a9ad-3335d4f6e358",
   "metadata": {},
   "outputs": [
    {
     "data": {
      "text/plain": [
       "Index(['bed_double', 'bed_queen', 'bed_king', 'group_solo', 'group_family',\n",
       "       'Hotel_Name_41', 'Hotel_Name_Blakes Hotel',\n",
       "       'Hotel_Name_COMO The Halkin',\n",
       "       'Hotel_Name_Crowne Plaza London Kensington',\n",
       "       'Hotel_Name_Four Seasons Hotel London at Park Lane',\n",
       "       'Hotel_Name_Knightsbridge Hotel', 'Hotel_Name_Lansbury Heritage Hotel',\n",
       "       'Hotel_Name_London Hilton on Park Lane',\n",
       "       'Hotel_Name_London Marriott Hotel Kensington',\n",
       "       'Hotel_Name_London Marriott Hotel Park Lane',\n",
       "       'Hotel_Name_Marlin Waterloo', 'Hotel_Name_Old Ship Inn Hackney',\n",
       "       'Hotel_Name_Sheraton Grand London Park Lane',\n",
       "       'Hotel_Name_The Arch London', 'Hotel_Name_The Athenaeum',\n",
       "       'Hotel_Name_The Beaumont Hotel', 'Hotel_Name_The Henrietta Hotel',\n",
       "       'Hotel_Name_The Leonard Hotel', 'Hotel_Name_The Levin Hotel',\n",
       "       'Hotel_Name_The Wellesley Knightsbridge a Luxury Collection Hotel London',\n",
       "       'Hotel_Name_The Zetter Townhouse Clerkenwell', 'p_checkin', 'p_dry',\n",
       "       'p_eatery', 'p_functional', 'p_hair', 'p_mobile', 'p_mostly',\n",
       "       'p_outlet', 'p_prompt', 'p_queen', 'p_rise', 'p_security', 'p_shame',\n",
       "       'p_ticket', 'p_wharf', 'p_wi', 'p_yard', 'n_addition', 'n_creak',\n",
       "       'n_daylight', 'n_error', 'n_listen', 'n_lucky', 'n_regular', 'n_shelve',\n",
       "       'n_sleeper', 'n_slippery', 'n_understaffed', 'n_wi', 'n_wooden'],\n",
       "      dtype='object')"
      ]
     },
     "execution_count": 13,
     "metadata": {},
     "output_type": "execute_result"
    }
   ],
   "source": [
    "# Getting the duplicated column names\n",
    "test.columns[test.T.duplicated()]"
   ]
  },
  {
   "cell_type": "markdown",
   "id": "011f0162-b0f3-46f3-80d0-ada05383b68b",
   "metadata": {},
   "source": [
    "There are no missing values in either the train or test datasets. We have identified some duplicate columns in our dataset. This is not uncommon in NLP tasks, especially when dealing with text data, as similar or identical features might be generated during preprocessing and feature extraction.\n",
    "\n",
    "Everything looks good. We can move on to modeling.\n",
    "\n",
    "[[Back to top]](#toc)\n",
    "\n",
    "***"
   ]
  },
  {
   "cell_type": "markdown",
   "id": "8b580e95-4f1f-4816-b764-87f56ad113be",
   "metadata": {},
   "source": [
    "## Modeling <a class=\"anchor\" id=\"modeling\"></a>\n",
    "\n",
    "In this notebook, we will use machine learning algorithms to create models and we will be using the `rating` column as our target column."
   ]
  },
  {
   "cell_type": "markdown",
   "id": "2af21b6d-7b20-4cbc-ab6e-8cde52892f1a",
   "metadata": {},
   "source": [
    "### Defining the independent and dependent variables <a class=\"anchor\" id=\"variables\"></a>\n",
    "\n",
    "Before proceeding with modeling the data, it is essential to identify the independent and dependent variables. Since we stated that `rating` is our target column, that will be our independent variable and all other columns will be the dependent variables."
   ]
  },
  {
   "cell_type": "code",
   "execution_count": 14,
   "id": "3a81cca4-57cf-41f5-8179-c101d4106c98",
   "metadata": {},
   "outputs": [
    {
     "name": "stdout",
     "output_type": "stream",
     "text": [
      "Shape of the independent variables in the trainset:  (12798, 2743)\n",
      "Shape of the dependent variables in the trainset:  (12798,)\n",
      "Shape of the independent variables in the testset:  (4267, 2743)\n",
      "Shape of the dependent variables in the testset:  (4267,)\n"
     ]
    }
   ],
   "source": [
    "# Define independent and dependent train variables\n",
    "X_train = train.drop(columns = 'rating')\n",
    "y_train = train.rating\n",
    "\n",
    "# Define independent and dependent test variables\n",
    "X_test = test.drop(columns = 'rating')\n",
    "y_test = test.rating\n",
    "\n",
    "# Shape of the independent and dependent variables\n",
    "print('Shape of the independent variables in the trainset: ', X_train.shape)\n",
    "print('Shape of the dependent variables in the trainset: ', y_train.shape)\n",
    "print('Shape of the independent variables in the testset: ', X_test.shape)\n",
    "print('Shape of the dependent variables in the testset: ', y_test.shape)"
   ]
  },
  {
   "cell_type": "markdown",
   "id": "c2badae6-3a54-45ec-9650-cacc9ca234e2",
   "metadata": {},
   "source": [
    "### Scaling the data <a class=\"anchor\" id=\"scaling\"></a>\n",
    "\n",
    "When we looked at the data for the train and test datasets, we saw that there were many differences in the range of numbers between each column. To model the data better, we should scale the variables which helps compare the different variables on equal footing.\n",
    "\n",
    "We chose to use the `StandardScaler` to scale the data. `StandardScaler` standardizes features by removing the mean and scaling to unit variance, ensuring that each feature has a mean of 0 and a standard deviation of 1. This method is particularly useful when the features in the dataset have different scales.\n",
    "\n",
    "Many machine learning algorithms, such as logistic regression and KNN, assume that the input data is centered around zero and has a standard deviation of one. Using `StandardScaler` ensures that these assumptions are met, which can improve the performance and convergence speed of the models. This provides a balanced approach, making it a good choice for scaling the data."
   ]
  },
  {
   "cell_type": "code",
   "execution_count": 15,
   "id": "7ed15256-239f-4070-a0b3-3c89b7e3c770",
   "metadata": {},
   "outputs": [],
   "source": [
    "# Normalize the data\n",
    "scaler = StandardScaler()\n",
    "scaler.fit(X_train)\n",
    "X_train_scaled = scaler.transform(X_train)\n",
    "X_test_scaled = scaler.transform(X_test)"
   ]
  },
  {
   "cell_type": "markdown",
   "id": "a57c8db0-35c4-44e2-a6cf-54a0de6e6080",
   "metadata": {},
   "source": [
    "***\n",
    "\n",
    "### Logistic Regression <a class=\"anchor\" id=\"log-reg\"></a>\n",
    "\n",
    "We will first perform a Logistic Regression on the data and calculate the accuracy scores of train and test sets. For the parameters, we will use `lbfgs` for the `solver` and `max_iter` will be **1000**."
   ]
  },
  {
   "cell_type": "code",
   "execution_count": 16,
   "id": "11a4238b-f93a-4f58-bc3d-aba2a6130379",
   "metadata": {},
   "outputs": [
    {
     "name": "stdout",
     "output_type": "stream",
     "text": [
      "LR Train Accuracy Score: 0.886\n",
      "LR Test Accuracy Score: 0.733\n"
     ]
    }
   ],
   "source": [
    "# Instantiate and fit a linear model\n",
    "LR_model = LogisticRegression(solver = 'lbfgs', max_iter = 1000)\n",
    "LR_model.fit(X_train_scaled, y_train)\n",
    "\n",
    "# Accuracy Score\n",
    "print(f'LR Train Accuracy Score: {(LR_model.score(X_train_scaled, y_train)).round(3)}')\n",
    "print(f'LR Test Accuracy Score: {(LR_model.score(X_test_scaled, y_test)).round(3)}')"
   ]
  },
  {
   "cell_type": "markdown",
   "id": "28d93d0b-df25-4ef7-b70d-82afd62a3e7b",
   "metadata": {},
   "source": [
    "We now have a baseline logistic regression model. It's off to a great start with a train accuracy score of **0.886** and a test accuracy score of **0.733**.\n",
    "\n",
    "| Model | Train Accuracy Score | Test Accuracy Score |\n",
    "| :-: | :-: | :-: |\n",
    "| Base LR Model | 0.886 | 0.733 |"
   ]
  },
  {
   "cell_type": "markdown",
   "id": "85288053-7472-402c-b810-f1b3f006a140",
   "metadata": {},
   "source": [
    "#### Words predictive of a good review and a bad review\n",
    "\n",
    "Since we have a fitted logistic regression model, we can look at words that are most predictive of a good review and a bad review. We should look for the 20 words most predictive of a good review (from the positive review column) and 20 words most predictive of a bad review (from the negative review column). To do this, we will use the regression coefficients."
   ]
  },
  {
   "cell_type": "code",
   "execution_count": 17,
   "id": "c4345e6d-afe2-4431-b995-49101de2c80b",
   "metadata": {},
   "outputs": [
    {
     "data": {
      "text/plain": [
       "<Figure size 1500x1000 with 0 Axes>"
      ]
     },
     "metadata": {},
     "output_type": "display_data"
    },
    {
     "data": {
      "image/png": "[encoded data removed]",
      "text/plain": [
       "<Figure size 640x480 with 1 Axes>"
      ]
     },
     "metadata": {},
     "output_type": "display_data"
    },
    {
     "data": {
      "text/plain": [
       "<Figure size 1500x1000 with 0 Axes>"
      ]
     },
     "metadata": {},
     "output_type": "display_data"
    },
    {
     "data": {
      "image/png": "[encoded data removed]",
      "text/plain": [
       "<Figure size 640x480 with 1 Axes>"
      ]
     },
     "metadata": {},
     "output_type": "display_data"
    }
   ],
   "source": [
    "# Create dataframe with regression coefficients values\n",
    "# and set index to column names\n",
    "word_counts = pd.DataFrame({\"coefficients\": (LR_model.coef_[0]).round(3)},\n",
    "                           index = X_train.columns\n",
    "                          ).sort_values(\"coefficients\", ascending=True)\n",
    "\n",
    "# Splitting the words to positive and negative based on the first letter\n",
    "# Positive words start with 'p' and negative words start with 'n'\n",
    "word_counts_pos = word_counts[word_counts.index.str.startswith('p')]\n",
    "word_counts_neg = word_counts[word_counts.index.str.startswith('n')]\n",
    "\n",
    "# Top 20 positive words\n",
    "top_20_pos_words = word_counts_pos.tail(20)\n",
    "\n",
    "# Top 20 negative words\n",
    "top_20_neg_words = word_counts_neg.head(20)\n",
    "\n",
    "# Graphing top 20 positive words and bottom 20 negative words\n",
    "plt.figure(figsize=(15, 10))\n",
    "top_20_pos_words.plot(kind=\"barh\", color = 'tab:blue', edgecolor = 'black', legend=False)\n",
    "plt.title(\"Top 20 words indicating Positive sentiment\")\n",
    "plt.xlabel(\"Coefficients\")\n",
    "plt.ylabel('pos_words')\n",
    "plt.show();\n",
    "\n",
    "plt.figure(figsize=(15, 10))\n",
    "abs(top_20_neg_words[::-1]).plot(kind=\"barh\", color = 'tab:orange', edgecolor = 'black', legend=False)\n",
    "plt.title('Top 20 words indicating Negative sentiment')\n",
    "plt.xlabel('Coefficients')\n",
    "plt.ylabel('neg_words')\n",
    "plt.show();"
   ]
  },
  {
   "cell_type": "code",
   "execution_count": 18,
   "id": "dd432c34-4726-418f-afeb-925ee60759f1",
   "metadata": {},
   "outputs": [
    {
     "data": {
      "text/html": [
       "<div>\n",
       "<style scoped>\n",
       "    .dataframe tbody tr th:only-of-type {\n",
       "        vertical-align: middle;\n",
       "    }\n",
       "\n",
       "    .dataframe tbody tr th {\n",
       "        vertical-align: top;\n",
       "    }\n",
       "\n",
       "    .dataframe thead th {\n",
       "        text-align: right;\n",
       "    }\n",
       "</style>\n",
       "<table border=\"1\" class=\"dataframe\">\n",
       "  <thead>\n",
       "    <tr style=\"text-align: right;\">\n",
       "      <th></th>\n",
       "      <th>coefficients</th>\n",
       "    </tr>\n",
       "  </thead>\n",
       "  <tbody>\n",
       "    <tr>\n",
       "      <th>p_bridge</th>\n",
       "      <td>0.292</td>\n",
       "    </tr>\n",
       "    <tr>\n",
       "      <th>p_amaze</th>\n",
       "      <td>0.296</td>\n",
       "    </tr>\n",
       "    <tr>\n",
       "      <th>p_perfect</th>\n",
       "      <td>0.300</td>\n",
       "    </tr>\n",
       "    <tr>\n",
       "      <th>p_fantastic</th>\n",
       "      <td>0.304</td>\n",
       "    </tr>\n",
       "    <tr>\n",
       "      <th>p_already</th>\n",
       "      <td>0.307</td>\n",
       "    </tr>\n",
       "    <tr>\n",
       "      <th>p_amazingly</th>\n",
       "      <td>0.316</td>\n",
       "    </tr>\n",
       "    <tr>\n",
       "      <th>p_exceptional</th>\n",
       "      <td>0.319</td>\n",
       "    </tr>\n",
       "    <tr>\n",
       "      <th>p_could</th>\n",
       "      <td>0.324</td>\n",
       "    </tr>\n",
       "    <tr>\n",
       "      <th>p_special</th>\n",
       "      <td>0.328</td>\n",
       "    </tr>\n",
       "    <tr>\n",
       "      <th>p_arrange</th>\n",
       "      <td>0.331</td>\n",
       "    </tr>\n",
       "    <tr>\n",
       "      <th>p_deluxe</th>\n",
       "      <td>0.338</td>\n",
       "    </tr>\n",
       "    <tr>\n",
       "      <th>p_staff</th>\n",
       "      <td>0.349</td>\n",
       "    </tr>\n",
       "    <tr>\n",
       "      <th>p_great</th>\n",
       "      <td>0.349</td>\n",
       "    </tr>\n",
       "    <tr>\n",
       "      <th>p_hair</th>\n",
       "      <td>0.350</td>\n",
       "    </tr>\n",
       "    <tr>\n",
       "      <th>p_everything</th>\n",
       "      <td>0.374</td>\n",
       "    </tr>\n",
       "    <tr>\n",
       "      <th>p_impeccable</th>\n",
       "      <td>0.399</td>\n",
       "    </tr>\n",
       "    <tr>\n",
       "      <th>p_exceed</th>\n",
       "      <td>0.401</td>\n",
       "    </tr>\n",
       "    <tr>\n",
       "      <th>p_incredible</th>\n",
       "      <td>0.451</td>\n",
       "    </tr>\n",
       "    <tr>\n",
       "      <th>p_excellent</th>\n",
       "      <td>0.517</td>\n",
       "    </tr>\n",
       "    <tr>\n",
       "      <th>p_gift</th>\n",
       "      <td>0.544</td>\n",
       "    </tr>\n",
       "  </tbody>\n",
       "</table>\n",
       "</div>"
      ],
      "text/plain": [
       "               coefficients\n",
       "p_bridge              0.292\n",
       "p_amaze               0.296\n",
       "p_perfect             0.300\n",
       "p_fantastic           0.304\n",
       "p_already             0.307\n",
       "p_amazingly           0.316\n",
       "p_exceptional         0.319\n",
       "p_could               0.324\n",
       "p_special             0.328\n",
       "p_arrange             0.331\n",
       "p_deluxe              0.338\n",
       "p_staff               0.349\n",
       "p_great               0.349\n",
       "p_hair                0.350\n",
       "p_everything          0.374\n",
       "p_impeccable          0.399\n",
       "p_exceed              0.401\n",
       "p_incredible          0.451\n",
       "p_excellent           0.517\n",
       "p_gift                0.544"
      ]
     },
     "execution_count": 18,
     "metadata": {},
     "output_type": "execute_result"
    }
   ],
   "source": [
    "# List out the top 20 positive words\n",
    "top_20_pos_words"
   ]
  },
  {
   "cell_type": "code",
   "execution_count": 19,
   "id": "b61ba67f-ccae-4781-873e-ecbc7c0924cd",
   "metadata": {},
   "outputs": [
    {
     "data": {
      "text/html": [
       "<div>\n",
       "<style scoped>\n",
       "    .dataframe tbody tr th:only-of-type {\n",
       "        vertical-align: middle;\n",
       "    }\n",
       "\n",
       "    .dataframe tbody tr th {\n",
       "        vertical-align: top;\n",
       "    }\n",
       "\n",
       "    .dataframe thead th {\n",
       "        text-align: right;\n",
       "    }\n",
       "</style>\n",
       "<table border=\"1\" class=\"dataframe\">\n",
       "  <thead>\n",
       "    <tr style=\"text-align: right;\">\n",
       "      <th></th>\n",
       "      <th>coefficients</th>\n",
       "    </tr>\n",
       "  </thead>\n",
       "  <tbody>\n",
       "    <tr>\n",
       "      <th>n_premier</th>\n",
       "      <td>-0.802</td>\n",
       "    </tr>\n",
       "    <tr>\n",
       "      <th>n_moment</th>\n",
       "      <td>-0.738</td>\n",
       "    </tr>\n",
       "    <tr>\n",
       "      <th>n_wood</th>\n",
       "      <td>-0.582</td>\n",
       "    </tr>\n",
       "    <tr>\n",
       "      <th>n_star</th>\n",
       "      <td>-0.513</td>\n",
       "    </tr>\n",
       "    <tr>\n",
       "      <th>n_confirmation</th>\n",
       "      <td>-0.509</td>\n",
       "    </tr>\n",
       "    <tr>\n",
       "      <th>n_lodge</th>\n",
       "      <td>-0.448</td>\n",
       "    </tr>\n",
       "    <tr>\n",
       "      <th>n_staff</th>\n",
       "      <td>-0.445</td>\n",
       "    </tr>\n",
       "    <tr>\n",
       "      <th>n_room</th>\n",
       "      <td>-0.438</td>\n",
       "    </tr>\n",
       "    <tr>\n",
       "      <th>n_unfriendly</th>\n",
       "      <td>-0.428</td>\n",
       "    </tr>\n",
       "    <tr>\n",
       "      <th>n_holiday</th>\n",
       "      <td>-0.387</td>\n",
       "    </tr>\n",
       "    <tr>\n",
       "      <th>n_uncomfortable</th>\n",
       "      <td>-0.371</td>\n",
       "    </tr>\n",
       "    <tr>\n",
       "      <th>n_air</th>\n",
       "      <td>-0.358</td>\n",
       "    </tr>\n",
       "    <tr>\n",
       "      <th>n_daylight</th>\n",
       "      <td>-0.327</td>\n",
       "    </tr>\n",
       "    <tr>\n",
       "      <th>n_refuse</th>\n",
       "      <td>-0.324</td>\n",
       "    </tr>\n",
       "    <tr>\n",
       "      <th>n_attitude</th>\n",
       "      <td>-0.302</td>\n",
       "    </tr>\n",
       "    <tr>\n",
       "      <th>n_basic</th>\n",
       "      <td>-0.297</td>\n",
       "    </tr>\n",
       "    <tr>\n",
       "      <th>n_interest</th>\n",
       "      <td>-0.293</td>\n",
       "    </tr>\n",
       "    <tr>\n",
       "      <th>n_rude</th>\n",
       "      <td>-0.288</td>\n",
       "    </tr>\n",
       "    <tr>\n",
       "      <th>n_smelt</th>\n",
       "      <td>-0.284</td>\n",
       "    </tr>\n",
       "    <tr>\n",
       "      <th>n_dusty</th>\n",
       "      <td>-0.282</td>\n",
       "    </tr>\n",
       "  </tbody>\n",
       "</table>\n",
       "</div>"
      ],
      "text/plain": [
       "                 coefficients\n",
       "n_premier              -0.802\n",
       "n_moment               -0.738\n",
       "n_wood                 -0.582\n",
       "n_star                 -0.513\n",
       "n_confirmation         -0.509\n",
       "n_lodge                -0.448\n",
       "n_staff                -0.445\n",
       "n_room                 -0.438\n",
       "n_unfriendly           -0.428\n",
       "n_holiday              -0.387\n",
       "n_uncomfortable        -0.371\n",
       "n_air                  -0.358\n",
       "n_daylight             -0.327\n",
       "n_refuse               -0.324\n",
       "n_attitude             -0.302\n",
       "n_basic                -0.297\n",
       "n_interest             -0.293\n",
       "n_rude                 -0.288\n",
       "n_smelt                -0.284\n",
       "n_dusty                -0.282"
      ]
     },
     "execution_count": 19,
     "metadata": {},
     "output_type": "execute_result"
    }
   ],
   "source": [
    "# Lists out the top 20 negative words\n",
    "top_20_neg_words"
   ]
  },
  {
   "cell_type": "markdown",
   "id": "c1c571e1-5f60-4466-99bd-e68e956f29ad",
   "metadata": {},
   "source": [
    "From the graphs and tables above, we can see that `p_gift` is the word that is most predictive of a good review with the highest regression coefficient of **0.544**. `n_premier` is the word that is the most predictive of a bad review with the lowest coefficient of **-0.802**."
   ]
  },
  {
   "cell_type": "markdown",
   "id": "1194e0d1-ab7c-4a9a-8fb9-60a2c681f4dd",
   "metadata": {},
   "source": [
    "#### Principal Component Analysis (PCA)\n",
    "\n",
    "Now, we want to reduce the dimensionality of the dataset using PCA. Once that is done, we want to observe the relationship between the number of dimensions and run-time for a logistic regression.\n",
    "\n",
    "We will use the independent (scaled) and dependent variables identified [earlier](#scaling). We will set up a PCA where we want to keep 90% of the variance. We will then transform our scaled X_train and X_test data with the PCA model. Then we will fit our PCA transformed data into the logistic regression model."
   ]
  },
  {
   "cell_type": "code",
   "execution_count": 20,
   "id": "f67c3a6b-6a12-410b-8f05-4db0b3f322de",
   "metadata": {},
   "outputs": [
    {
     "name": "stdout",
     "output_type": "stream",
     "text": [
      "Shape of original train set: (12798, 2743)\n",
      "Shape of PCA transformed train set: (12798, 1891)\n"
     ]
    }
   ],
   "source": [
    "# Lets say we want to keep 90% of the variance\n",
    "my_PCA = PCA(n_components = 0.9)\n",
    "my_PCA.fit(X_train_scaled)\n",
    "\n",
    "# Transform train and test\n",
    "X_train_PCA = my_PCA.transform(X_train_scaled)\n",
    "X_test_PCA = my_PCA.transform(X_test_scaled)\n",
    "\n",
    "# Shape of datasets\n",
    "print(f'Shape of original train set: {X_train_scaled.shape}')\n",
    "print(f'Shape of PCA transformed train set: {X_train_PCA.shape}')"
   ]
  },
  {
   "cell_type": "code",
   "execution_count": 21,
   "id": "524c0c1d-1eb5-4c96-9155-0d42c5ce7361",
   "metadata": {},
   "outputs": [
    {
     "name": "stdout",
     "output_type": "stream",
     "text": [
      "PCA transformed LR Train Accuracy Score: 0.855\n",
      "PCA transformed LR Test Accuracy Score: 0.766\n"
     ]
    }
   ],
   "source": [
    "# PCA transformed LR model\n",
    "LR_PCA = LogisticRegression(max_iter = 1000)\n",
    "LR_PCA.fit(X_train_PCA,y_train)\n",
    "\n",
    "# Accuracy Score\n",
    "print(f'PCA transformed LR Train Accuracy Score: {(LR_PCA.score(X_train_PCA, y_train)).round(3)}')\n",
    "print(f'PCA transformed LR Test Accuracy Score: {(LR_PCA.score(X_test_PCA, y_test)).round(3)}')"
   ]
  },
  {
   "cell_type": "markdown",
   "id": "aae46afd-1fe3-45f3-9b89-77867381ccda",
   "metadata": {},
   "source": [
    "| Model | Train Accuracy Score | Test Accuracy Score |\n",
    "| :-: | :-: | :-: |\n",
    "| Base LR Model | 0.886 | 0.733 |\n",
    "| PCA transformed LR Model | 0.855 | 0.766 |"
   ]
  },
  {
   "cell_type": "markdown",
   "id": "15d60a41-baa3-4ebc-a552-3c5b6cf12474",
   "metadata": {},
   "source": [
    "After reducing the dimensionality with PCA, we see that the accuracy score of the testing and training sets did not change much between the base LR model and the PCA transformed LR model.\n",
    "\n",
    "Let's look at the run-times and see how the number of dimensions affect the run-time for logistic regression."
   ]
  },
  {
   "cell_type": "code",
   "execution_count": 22,
   "id": "22ee47fe-9057-4a1f-98b4-f1edb3d7f0c1",
   "metadata": {},
   "outputs": [
    {
     "name": "stdout",
     "output_type": "stream",
     "text": [
      "Original LR Model run-time: 3.272 seconds.\n",
      "PCA transformed LR Model run-time: 2.185 seconds.\n"
     ]
    }
   ],
   "source": [
    "# Comparing run-times of the original LR model and the PCA transformed LR model\n",
    "# Original LR model from above\n",
    "start_time_LR = time.time()\n",
    "LR_model.fit(X_train_scaled, y_train)\n",
    "end_time_LR = time.time()\n",
    "total_time_LR = end_time_LR - start_time_LR\n",
    "print(f'Original LR Model run-time: {total_time_LR:.3f} seconds.')\n",
    "\n",
    "# PCA transformed LR model\n",
    "start_time_LR_PCA = time.time()\n",
    "LR_PCA.fit(X_train_PCA, y_train)\n",
    "end_time_LR_PCA = time.time()\n",
    "total_time_PCA = end_time_LR_PCA - start_time_LR_PCA\n",
    "print(f'PCA transformed LR Model run-time: {total_time_PCA:.3f} seconds.')"
   ]
  },
  {
   "cell_type": "markdown",
   "id": "5aa6f716-3d19-47a0-b49c-f067d2816ba5",
   "metadata": {},
   "source": [
    "We see that the PCA transformed LR model has a faster run-time at **2.253** seconds compared to the original LR model at **3.334** seconds. This shows that as the number of dimensions in the dataset decreases, the computational run-time of fitting a logistic regression model decreases as well. Therefore, reducing the dimensionality of the data using PCA can help to speed up the training and prediction time of a logistic regression model."
   ]
  },
  {
   "cell_type": "markdown",
   "id": "40142af8-4867-46cd-9a57-a85bb4aacc1a",
   "metadata": {
    "tags": []
   },
   "source": [
    "#### Advantages and Disadvantages of Dimensionality Reduction\n",
    "\n",
    "The **advantage** of dimensionality reduction is that reducing the number of features essentially discards information by compressing/projecting our data down into a lower dimensionality. This results in less storage space being required. It also reduces overfitting and reduces the computational time of our model (as seen above).\n",
    "\n",
    "The **disadvantage** of dimensionality reduction is that we are losing some data. This can impact the performance of subsequent training algorithms. It can also be a problem if we are trying to interpret the transformed features. There's also a layer of complexity added when presenting the results to others.\n",
    "\n",
    "[[Back to top]](#toc)"
   ]
  },
  {
   "cell_type": "markdown",
   "id": "575fa723-b55f-4716-a1eb-6c9f217b486a",
   "metadata": {},
   "source": [
    "***\n",
    "\n",
    "### K-Nearest Neighbors Classifier <a class=\"anchor\" id=\"knn\"></a>\n",
    "\n",
    "Next, we will make a model with the K-Nearest Neighbors Classifier. We will use the previously saved independent (scaled) and dependent variables from the [section above](#scaling). It is important to scale the data because KNN is a distance-based model. We will first instantiate then fit the data to the model and then calculate the training and testing accuracy scores."
   ]
  },
  {
   "cell_type": "code",
   "execution_count": 23,
   "id": "feb46571-607c-4317-b66f-694fe46ec2df",
   "metadata": {},
   "outputs": [
    {
     "name": "stdout",
     "output_type": "stream",
     "text": [
      "KNN Train Accuracy Score: 0.751\n",
      "KNN Test Accuracy Score: 0.637\n"
     ]
    }
   ],
   "source": [
    "# Instantiate and fit the KNN model\n",
    "KNN_model = KNeighborsClassifier()\n",
    "KNN_model.fit(X_train_scaled, y_train)\n",
    "\n",
    "# Accuracy Score\n",
    "print(f'KNN Train Accuracy Score: {(KNN_model.score(X_train_scaled, y_train)).round(3)}')\n",
    "print(f'KNN Test Accuracy Score: {(KNN_model.score(X_test_scaled, y_test)).round(3)}')"
   ]
  },
  {
   "cell_type": "markdown",
   "id": "fe335864-1c16-4bf4-8a01-62bf04f8f480",
   "metadata": {},
   "source": [
    "We now have a baseline KNN model. The accuracy scores for the train (**0.751**) and test (**0.637**) set for KNN was not great. We can see if we can improve the accuracy by adjusting some parameters.\n",
    "\n",
    "| Model | n_neighbors | Train Accuracy Score | Test Accuracy Score |\n",
    "| :-: | :-: | :-: | :-: |\n",
    "| Base KNN Model | 5 | 0.751 | 0.637 |"
   ]
  },
  {
   "cell_type": "markdown",
   "id": "15d632cb-df81-44a4-b320-c2f154bbc0a8",
   "metadata": {},
   "source": [
    "#### Relationship between the number of observations and run-time for KNN\n",
    "\n",
    "KNN is a distance-based algorithm and it uses the proximity of other data points to make classifications or predictions about the grouping of an individual data point. It is said that if the training set is several thousand elements long, we could spend days doing calculations. This makes KNN a computationally expensive model. Now, we want to explore the relationship between the number of observations and the run-time for KNN and see what we find.\n",
    "\n",
    "To do that, we want to split our data where sets of data range from 10% to 100% of the whole dataset. We will use the `train-test-split` technique to help us achieve this. After splitting the data, we want to instantiate the KNN model and fit the model with the data that we split. Then we can calculate the run-time. This will be done for all the data splits. Once, we gathered all the run-times, we will plot the run-times on the graph with the corresponding percent of data that was split. There is an extra step to calculating the percent data that was used. The data range that we used for the train-test-split corresponds to the \"test\" set when we want the percentage of the \"train\" set. To get this percentage, we would just need to subtract the percent used for `test_size` from **1**."
   ]
  },
  {
   "cell_type": "code",
   "execution_count": 24,
   "id": "b2ad3f2f-bcbf-48fe-a51c-9120c9bcfd08",
   "metadata": {},
   "outputs": [],
   "source": [
    "# Looping through different splits and calculating the run-time\n",
    "KNN_percent_range = np.arange(0.1, 1, 0.1)\n",
    "\n",
    "KNN_percent_obs = []\n",
    "KNN_run_time = []\n",
    "\n",
    "for n in KNN_percent_range:\n",
    "    X_train_obs, _, y_train_obs, _ = train_test_split(X_train_scaled,y_train, test_size = n,\\\n",
    "                                                      random_state = 42, stratify = y_train)\n",
    "    \n",
    "    # Instantiate and fit the model\n",
    "    KNN_model2 = KNeighborsClassifier()\n",
    "    KNN_model2.fit(X_train_obs, y_train_obs)\n",
    "    \n",
    "    # Computes run-time\n",
    "    start_time_KNN = time.time()\n",
    "    KNN_model2.fit(X_train_obs, y_train_obs)\n",
    "    end_time_KNN = time.time()\n",
    "    total_time_KNN = end_time_KNN - start_time_KNN\n",
    "    \n",
    "    # Append values to empty list\n",
    "    KNN_run_time.append(total_time_KNN)\n",
    "    KNN_percent_obs.append(1-n) # We want the train split percentage and not the test split"
   ]
  },
  {
   "cell_type": "code",
   "execution_count": 25,
   "id": "38715f2d-f97e-456f-b328-4f3224530061",
   "metadata": {},
   "outputs": [
    {
     "data": {
      "image/png": "[encoded data removed]",
      "text/plain": [
       "<Figure size 500x500 with 1 Axes>"
      ]
     },
     "metadata": {},
     "output_type": "display_data"
    }
   ],
   "source": [
    "# Plots figure\n",
    "plt.figure(figsize=(5, 5))\n",
    "plt.plot(KNN_percent_obs, KNN_run_time)\n",
    "plt.title('% Observations Kept vs Run-Time using KNN algorithm')\n",
    "plt.ylabel('Run-Time')\n",
    "plt.xlabel('% Observations Kept')\n",
    "plt.show()"
   ]
  },
  {
   "cell_type": "markdown",
   "id": "d4a50c6c-7332-49e2-9fe4-802ff00656cf",
   "metadata": {},
   "source": [
    "From the graph above, we see that the relationship between the number of observations and run-time for KNN is linear. The number of observations is directly proportional to the run-time. Like what was stated above, the more observations we have, the longer it will take for KNN to do calculations."
   ]
  },
  {
   "cell_type": "markdown",
   "id": "1f06f1d4-d731-48c9-8a66-85fea63855a2",
   "metadata": {},
   "source": [
    "#### One advantage and one disadvantage of reducing the number of observations\n",
    "\n",
    "The advantages and disadvantages of reducing the number of observations in the KNN model is similar to the advantages and disadvantages of dimensionality reduction.\n",
    "\n",
    "One **advantage** of reducing the number of observations is that it can reduce the run-time of our model. There are less calculations so it will take less time to train and test the data.\n",
    "\n",
    "One **disadvantage** of reducing the number of observations is that we are losing some data. This can impact the performance of subsequent training algorithms or if we trying to explain the variance in our dataset."
   ]
  },
  {
   "cell_type": "markdown",
   "id": "399f7824-5005-408d-a3e7-054802b0f9e6",
   "metadata": {},
   "source": [
    "#### Optimal value for K in the KNN algorithm\n",
    "\n",
    "We can look for the optimal value for K in the KNN algorithm. We cannot use the train and test sets to adjust this parameter. We would need to create a *validation set* to use to test for the optimal K. Validation sets are used to help validate our model's performance. To create the validation set, we would need to split the training data where 70% is the training set and 30% is the validation set.\n",
    "<a class=\"anchor\" id=\"train-validation-split\"></a>"
   ]
  },
  {
   "cell_type": "code",
   "execution_count": 26,
   "id": "efc165fb-b62e-43d4-9487-4d2f0f7670c8",
   "metadata": {},
   "outputs": [
    {
     "name": "stdout",
     "output_type": "stream",
     "text": [
      "Shape of test set: (4267, 2743)\n",
      "Shape of validation set: (3840, 2743)\n",
      "Shape of train set: (8958, 2743)\n"
     ]
    }
   ],
   "source": [
    "# Splitting the data into train and validation set\n",
    "X_train2, X_val, y_train2, y_val = train_test_split(X_train, y_train, \\\n",
    "                                                    test_size=0.30, random_state=42, stratify=y_train)\n",
    "\n",
    "# Checking the shape\n",
    "print(f'Shape of test set: {X_test.shape}')\n",
    "print(f'Shape of validation set: {X_val.shape}')\n",
    "print(f'Shape of train set: {X_train2.shape}')"
   ]
  },
  {
   "cell_type": "markdown",
   "id": "ee715590-6d61-4a4f-9eca-c67d1a0d3b43",
   "metadata": {},
   "source": [
    "Now that the training set has been split, we need to scale the new training and validation sets because KNN calculates distance between data points. We will also use the `StandardScaler()` to scale the data."
   ]
  },
  {
   "cell_type": "code",
   "execution_count": 27,
   "id": "fd91ca12-e725-49bc-830f-cdf703ec5bbe",
   "metadata": {},
   "outputs": [],
   "source": [
    "# Normalize the data\n",
    "scaler = StandardScaler()\n",
    "scaler.fit(X_train2)\n",
    "X_train2_scaled = scaler.transform(X_train2)\n",
    "X_val_scaled = scaler.transform(X_val)"
   ]
  },
  {
   "cell_type": "markdown",
   "id": "4eeb36d5-b286-472c-97de-6fb82203c9b1",
   "metadata": {},
   "source": [
    "After scaling the data, we want to loop through K values and fit the model with our data. We will then obtain the accuracy scores on both the training and validation sets. For K values, we can loop through a range from 1 to 51. However, we want to avoid even numbers because KNN does majority votes on its neighbors. We can then plot accuracy as a function of K. Since the validation set is used to validate model performance, we are looking for the highest validation score. The corresponding K value will be the optimal K value for our KNN model."
   ]
  },
  {
   "cell_type": "code",
   "execution_count": 28,
   "id": "f8becd56-f8bb-4f32-98dc-33092b3874d4",
   "metadata": {},
   "outputs": [],
   "source": [
    "# Looping through K values\n",
    "K_range = list(range(1, 51, 2)) # avoid even numbers because KNN does majority vote on its neighbors\n",
    "\n",
    "train_scores = []\n",
    "validation_scores = []\n",
    "\n",
    "for K in K_range:\n",
    "    \n",
    "    # Instantiate and fit the model\n",
    "    my_KNN = KNeighborsClassifier(n_neighbors = K)\n",
    "    my_KNN.fit(X_train2_scaled,y_train2)\n",
    "    \n",
    "    # Train on traning set\n",
    "    train_scores.append((my_KNN.score(X_train2_scaled,y_train2)).round(3))\n",
    "    \n",
    "    # Score on validation set\n",
    "    validation_scores.append((my_KNN.score(X_val_scaled,y_val)).round(3))"
   ]
  },
  {
   "cell_type": "code",
   "execution_count": 29,
   "id": "ca7cdaf1-743b-4ff6-b0ad-de3c33b3cb4a",
   "metadata": {},
   "outputs": [
    {
     "data": {
      "image/png": "[encoded data removed]",
      "text/plain": [
       "<Figure size 640x480 with 1 Axes>"
      ]
     },
     "metadata": {},
     "output_type": "display_data"
    },
    {
     "name": "stdout",
     "output_type": "stream",
     "text": [
      "The best model has K =  17\n"
     ]
    }
   ],
   "source": [
    "# Plotting the training and validation scores\n",
    "plt.figure()\n",
    "plt.plot(K_range, train_scores, label = \"Train Score\", marker = '.')\n",
    "plt.plot(K_range, validation_scores, label = \"Validation Scores\",marker = '.')\n",
    "plt.title('Accuracy as a function of K')\n",
    "plt.xlabel('K')\n",
    "plt.ylabel('Accuracy')\n",
    "plt.legend()\n",
    "plt.show()\n",
    "\n",
    "knn_which_max = np.array(validation_scores).argmax()\n",
    "\n",
    "print(\"The best model has K = \", K_range[knn_which_max])"
   ]
  },
  {
   "cell_type": "markdown",
   "id": "f81b7b5c-89c4-4862-b6b5-15ad7910fcf3",
   "metadata": {},
   "source": [
    "The optimal K value is **17**. We will adjust the K value of our model and see what the training and testing accuracy scores are."
   ]
  },
  {
   "cell_type": "code",
   "execution_count": 30,
   "id": "6fa80fd2-84c8-405f-84a1-2549599fa324",
   "metadata": {},
   "outputs": [
    {
     "name": "stdout",
     "output_type": "stream",
     "text": [
      "KNN Train Accuracy Score: 0.725\n",
      "KNN Test Accuracy Score: 0.684\n"
     ]
    }
   ],
   "source": [
    "# Instantiate and fit the KNN model\n",
    "KNN_model = KNeighborsClassifier(n_neighbors = 17)\n",
    "KNN_model.fit(X_train_scaled, y_train)\n",
    "\n",
    "# Accuracy Score\n",
    "print(f'KNN Train Accuracy Score: {(KNN_model.score(X_train_scaled, y_train)).round(3)}')\n",
    "print(f'KNN Test Accuracy Score: {(KNN_model.score(X_test_scaled, y_test)).round(3)}')"
   ]
  },
  {
   "cell_type": "markdown",
   "id": "84bf2018-b20e-44c0-8f48-3dc5373bb19e",
   "metadata": {},
   "source": [
    "| Model | n_neighbors | Train Accuracy Score | Test Accuracy Score |\n",
    "| :-: | :-: | :-: | :-: |\n",
    "| Base KNN Model | 5 | 0.751 | 0.637 |\n",
    "| Optimal KNN Model | 17 | 0.725 | 0.684 |"
   ]
  },
  {
   "cell_type": "markdown",
   "id": "b87db4a5-68a0-4a8e-8aec-4185a537737f",
   "metadata": {},
   "source": [
    "With the optimal n_neighbors as **17**, the training accuracy score is **0.725** and the testing accuracy score is **0.684**. There was a decrease in the train accuracy score of about **0.026** however, our test accuracy score increase by **0.047**."
   ]
  },
  {
   "cell_type": "markdown",
   "id": "d832db09-3c99-4b7e-adf6-89988bdcaf73",
   "metadata": {},
   "source": [
    "#### Issue with splitting the data into train and validation sets after performing vectorization\n",
    "\n",
    "The issue with splitting the data into train and validation sets after perforing vectorization is that there may be a chance of the validation dataset leaking into the training dataset. We would be using information from the validation set to vectorize our whole dataset. It would be like we were peeking at our unseen validation set. We should always split our data before performing vectorization."
   ]
  },
  {
   "cell_type": "markdown",
   "id": "ac21d557-9c2c-47ce-9bde-f72efe823805",
   "metadata": {},
   "source": [
    "***\n",
    "\n",
    "### Decision Tree <a class=\"anchor\" id=\"dt\"></a>\n",
    "\n",
    "In this section, we will be looking at the Decision Tree Classifier algorithm. We can go ahead and fit the model. We do not need to scale the data because this algorithm is not sensitive to the the variance in the data."
   ]
  },
  {
   "cell_type": "code",
   "execution_count": 31,
   "id": "bd04182c-4b81-4a95-8966-6334bbf8fb1c",
   "metadata": {},
   "outputs": [
    {
     "name": "stdout",
     "output_type": "stream",
     "text": [
      "DT Train Accuracy Score: 1.0\n",
      "DT Test Accuracy Score: 0.696\n"
     ]
    }
   ],
   "source": [
    "# Instantiate and fit the DT model\n",
    "DT_model = DecisionTreeClassifier()\n",
    "DT_model.fit(X_train, y_train)\n",
    "\n",
    "# Accuracy Score\n",
    "print(f'DT Train Accuracy Score: {(DT_model.score(X_train, y_train)).round(3)}')\n",
    "print(f'DT Test Accuracy Score: {(DT_model.score(X_test, y_test)).round(3)}')\n"
   ]
  },
  {
   "cell_type": "markdown",
   "id": "6452d823-992d-452a-aa16-116024b5585e",
   "metadata": {},
   "source": [
    "We now have a baseline DT model. Note the accuracy score for the training (**1.0**) and testing (**0.702**) sets. The model is overfitting the data. It completely fits the training data but fails to generalize the testing unseen data."
   ]
  },
  {
   "cell_type": "markdown",
   "id": "0bd97aa4-5982-4874-b0a0-ceede0545041",
   "metadata": {},
   "source": [
    "#### Optimal value for the maximum depth \n",
    "\n",
    "We can look for the optimal value for the maximum depth in the DT algorithm. Similar to finding the optimal value of K in the KNN model, we cannot use the train and test sets to adjust maximum depth. We would need to create a validation set to use to test for the optimal maximum depth. For the validation set, we would need to split the training data where 70% is the training set and 30% is the validation set.\n",
    "\n",
    "We already split the data into train and validation sets in the [previous section](#train-validation-split). We do not need to repeat this step and can use that split for this section as well."
   ]
  },
  {
   "cell_type": "code",
   "execution_count": 32,
   "id": "116916c1-77e8-47fc-ac4b-216fba91b672",
   "metadata": {},
   "outputs": [
    {
     "name": "stdout",
     "output_type": "stream",
     "text": [
      "Shape of test set: (4267, 2743)\n",
      "Shape of validation set: (3840, 2743)\n",
      "Shape of train set: (8958, 2743)\n"
     ]
    }
   ],
   "source": [
    "# Checking the shape\n",
    "print(f'Shape of test set: {X_test.shape}')\n",
    "print(f'Shape of validation set: {X_val.shape}')\n",
    "print(f'Shape of train set: {X_train2.shape}')"
   ]
  },
  {
   "cell_type": "markdown",
   "id": "7b22453a-25c7-458e-993a-d4ceff12f9fb",
   "metadata": {},
   "source": [
    "Now, we can loop through different values of max_depth to find the most optimal max_depth based on the accuracy of the validation set. Similar to how we optimized the K value for KNN, the max_depth value corresponding to the highest validation score is the optimal max_depth value for our DT model."
   ]
  },
  {
   "cell_type": "code",
   "execution_count": 33,
   "id": "affcb750-cf57-4dc1-b6f2-6acbd57c1b41",
   "metadata": {},
   "outputs": [],
   "source": [
    "# Looping max_depth\n",
    "max_depth_range = list(range(1,21))\n",
    "\n",
    "train_scores2 = []\n",
    "validation_scores2 = []\n",
    "\n",
    "for max_depth in max_depth_range:\n",
    "    \n",
    "    # Instantiate and fit the model\n",
    "    my_DT = DecisionTreeClassifier(max_depth = max_depth)\n",
    "    my_DT.fit(X_train2,y_train2)\n",
    "    \n",
    "    # train on traning set\n",
    "    train_scores2.append((my_DT.score(X_train2,y_train2)).round(3))\n",
    "    \n",
    "    # score on validation set\n",
    "    validation_scores2.append((my_DT.score(X_val,y_val)).round(3))"
   ]
  },
  {
   "cell_type": "code",
   "execution_count": 34,
   "id": "0e41429c-5248-44b2-a262-89d22c5ab296",
   "metadata": {},
   "outputs": [
    {
     "data": {
      "image/png": "[encoded data removed]",
      "text/plain": [
       "<Figure size 640x480 with 1 Axes>"
      ]
     },
     "metadata": {},
     "output_type": "display_data"
    },
    {
     "name": "stdout",
     "output_type": "stream",
     "text": [
      "The best model has max_depth =  5\n"
     ]
    }
   ],
   "source": [
    "# Plotting the training and validation scores\n",
    "plt.figure()\n",
    "plt.plot(max_depth_range, train_scores2, label = \"Train Score\",marker='.')\n",
    "plt.plot(max_depth_range, validation_scores2, label = \"Validation Scores\",marker='.')\n",
    "plt.title('Accuracy as a function of max_depth')\n",
    "plt.xlabel('max_depth')\n",
    "plt.ylabel('Accuracy')\n",
    "plt.legend()\n",
    "plt.show()\n",
    "\n",
    "dt_which_max = np.array(validation_scores2).argmax()\n",
    "\n",
    "print(\"The best model has max_depth = \", max_depth_range[dt_which_max])\n"
   ]
  },
  {
   "cell_type": "markdown",
   "id": "45b084b7-d58f-4a70-9869-e0b6f30d6aa3",
   "metadata": {},
   "source": [
    "The optimal max_depth is 5. We will now input that into our DT model and see what the training and testing accuracy scores are."
   ]
  },
  {
   "cell_type": "code",
   "execution_count": 35,
   "id": "609b688d-77c7-487c-a62f-38f56ba70d9c",
   "metadata": {},
   "outputs": [
    {
     "name": "stdout",
     "output_type": "stream",
     "text": [
      "DT Train Accuracy Score: 0.755\n",
      "DT Test Accuracy Score: 0.74\n"
     ]
    }
   ],
   "source": [
    "# Instantiate and fit the DT model\n",
    "DT_model2 = DecisionTreeClassifier(max_depth = 5)\n",
    "DT_model2.fit(X_train, y_train)\n",
    "\n",
    "# Accuracy Score\n",
    "print(f'DT Train Accuracy Score: {(DT_model2.score(X_train, y_train)).round(3)}')\n",
    "print(f'DT Test Accuracy Score: {(DT_model2.score(X_test, y_test)).round(3)}')"
   ]
  },
  {
   "cell_type": "markdown",
   "id": "c444863d-0bc3-43f5-91ba-0876b8fc3d18",
   "metadata": {},
   "source": [
    "| Model | max_depth | Train Accuracy Score | Test Accuracy Score |\n",
    "| :-: | :-: | :-: | :-: |\n",
    "| Base DT Model | None | 1.0 | 0.702 |\n",
    "| Optimal DT Model | 7 | 0.755 | 0.740 |"
   ]
  },
  {
   "cell_type": "markdown",
   "id": "b03528ca-160a-4474-8851-b4e838fe36d5",
   "metadata": {},
   "source": [
    "With the optimal max_depth of 5, the training accuracy score is **0.755** and the testing accuracy score is **0.740**. We can see that the base DT model was overfitted. The model was fitted better with the optimal max_depth hyperparameter."
   ]
  },
  {
   "cell_type": "markdown",
   "id": "70986d63-5726-460e-b8fd-1240b19bd852",
   "metadata": {},
   "source": [
    "***\n",
    "\n",
    "#### Advantages of Decision Trees over KNN\n",
    "\n",
    "One advantage of Decision Trees over KNN is that they are more interpretable and easy to understand. This is because they are a visual model and they visualize the decision-making process and we can see how the decisions are made at each node. Another advantage Decision Trees have over KNN is that they can handle both numerical and categorical data without preprocessing or normalizing the data."
   ]
  },
  {
   "cell_type": "markdown",
   "id": "5f1ef83a-8190-4d2a-94ea-73e2e46f09a9",
   "metadata": {},
   "source": [
    "#### Weaknesses of Decision Trees (classification or regression trees)\n",
    "\n",
    "One weakness of Decision Trees is that they tend to overfit and would require priuning. This means we would have to adjust the `max_depth` and/or `min_samples_leaf`. Another weakness of Decision Trees is that they are sensitive to minor changes in data. This can introduce serious biases as you move further down the tree. This means they don't have the same predictive accuracy as other approaches."
   ]
  },
  {
   "cell_type": "markdown",
   "id": "fb7c4a07-d78c-4cc1-a230-cd8f95cf667c",
   "metadata": {},
   "source": [
    "***\n",
    "\n",
    "### Purpose of Validation Sets <a class=\"anchor\" id=\"val-sets\"></a>\n",
    "\n",
    "As stated above, the purpose of the validation set is to find and optimize the best model by tuning the model's hyperparameters. The validation set is completely separate from the test set. It is a sample of data split from the training set that is used to give an unbiased estimate of the model's performance. That's why it is the best method to use to find optimal parameters for models."
   ]
  },
  {
   "cell_type": "markdown",
   "id": "7406c109-0789-4f9f-b34b-3aeef84af123",
   "metadata": {},
   "source": [
    "***\n",
    "\n",
    "### 5-fold Cross Validation on a Logistic Regression Model <a class=\"anchor\" id=\"5-fold\"></a>\n",
    "\n",
    "Now, we want to optimize the hyperparameters of our model using a 5-fold cross validation. We will optimize the C hyperparameter in the logistic regression model. The C hyperparameter with the highest validation score will be give us the best model.\n"
   ]
  },
  {
   "cell_type": "code",
   "execution_count": 36,
   "id": "8edd45e8-78e4-43c8-b0f4-6a271ecb3553",
   "metadata": {},
   "outputs": [],
   "source": [
    "# Looping through C values\n",
    "cross_validation_scores = []\n",
    "\n",
    "C_range = np.array([.00000001,.0000001,.000001,.00001,.0001,.001,.1,\\\n",
    "                1,10,100,1000,10000,100000,1000000,10000000,100000000,1000000000])\n",
    "\n",
    "# Do some cross validation\n",
    "for c in C_range:\n",
    "    LR_model_cv = LogisticRegression(C=c,random_state=1, max_iter = 1000)\n",
    "    \n",
    "    # the cross validation score (mean of scores from all folds)\n",
    "    cv_score = np.mean(cross_val_score(LR_model_cv, X_train_scaled, y_train, cv = 5))\n",
    "    \n",
    "    cross_validation_scores.append(cv_score)"
   ]
  },
  {
   "cell_type": "code",
   "execution_count": 37,
   "id": "f76516be-1f1c-4f05-97a7-9420e7b13fbe",
   "metadata": {},
   "outputs": [
    {
     "data": {
      "image/png": "[encoded data removed]",
      "text/plain": [
       "<Figure size 640x480 with 1 Axes>"
      ]
     },
     "metadata": {},
     "output_type": "display_data"
    },
    {
     "name": "stdout",
     "output_type": "stream",
     "text": [
      "The best model has C =  0.001\n"
     ]
    }
   ],
   "source": [
    "# Plot graph\n",
    "plt.figure()\n",
    "plt.plot(C_range, cross_validation_scores, label = \"Cross Validation Score\", marker = '.')\n",
    "plt.legend()\n",
    "plt.xscale(\"log\")\n",
    "plt.xlabel('Regularization Parameter: C')\n",
    "plt.ylabel('Cross Validation Score')\n",
    "plt.grid()\n",
    "plt.show()\n",
    "\n",
    "which_max = np.array(cross_validation_scores).argmax()\n",
    "\n",
    "print(\"The best model has C = \", C_range[which_max])"
   ]
  },
  {
   "cell_type": "markdown",
   "id": "f439df8e-5d60-452d-8a86-ff8b656ec8e9",
   "metadata": {},
   "source": [
    "From the plot, we see that the best model had the C parameter equal to **0.001**. We will now instantiate and fit the model with the optimal C value and find the training and testing accuracy scores. "
   ]
  },
  {
   "cell_type": "code",
   "execution_count": 38,
   "id": "a9174a79-7176-4886-9a06-59485e2f4452",
   "metadata": {},
   "outputs": [
    {
     "name": "stdout",
     "output_type": "stream",
     "text": [
      "Train Accuracy Score: 0.854\n",
      "Test Accuracy Score: 0.778\n"
     ]
    }
   ],
   "source": [
    "# Instantiate model\n",
    "best_LR_model = LogisticRegression(C = 0.001, random_state=1, max_iter = 1000)\n",
    "\n",
    "# Fit model\n",
    "best_LR_model.fit(X_train_scaled, y_train)\n",
    "\n",
    "# Score model\n",
    "print(f'Train Accuracy Score: {(best_LR_model.score(X_train_scaled, y_train)).round(3)}')\n",
    "print(f'Test Accuracy Score: {(best_LR_model.score(X_test_scaled, y_test)).round(3)}')"
   ]
  },
  {
   "cell_type": "markdown",
   "id": "85d0c710-01a6-4f0d-b669-b346dce4ad10",
   "metadata": {},
   "source": [
    "| Model | Hyperparamter | Train Accuracy Score | Test Accuracy Score |\n",
    "| :-: | :-: | :-: | :-: |\n",
    "| 5-fold Cross Validation LR Model | C = 0.001, solver = 'lbfgs', max_iter = 1000 | 0.854 | 0.778 |\n",
    "| PCA transformed on Base LR Model | n_components = 0.9 | 0.855 | 0.766 |\n",
    "| Optimal DT Model | max_depth = 5 | 0.755 | 0.740 |\n",
    "| Base LR Model | solver = 'lbfgs', max_iter = 1000, C = 1.0 | 0.886 | 0.733 |\n",
    "| Base DT Model | max_depth = None | 1.0 | 0.702 |\n",
    "| Optimal KNN Model | n_neighbors = 17 | 0.725 | 0.684 |\n",
    "| Base KNN Model | n_neighbors = 5 | 0.751 | 0.637 |"
   ]
  },
  {
   "cell_type": "markdown",
   "id": "96d1cf3c-ca76-4042-bb2a-a9fa26762ad7",
   "metadata": {},
   "source": [
    "The table above lists the models, their hyperparamters, training and testing accuracy scores. It is ordered by testing accuracy score in descending order. Comparing the training and testing accuracy scores with the other logistic regression models, we see that the model that went through the 5-fold cross validation has the best test accuracy score (**0.778**) and a decent train accuracy score (**0.854**).\n",
    "\n",
    "If we look at the optimized models, the model with the best test score would be the best model. We would also have to pay attention to see if the data was overfitted at all. Out of the optimized models, the 5-fold cross validation logisitic regression model had the best test score and the data did not seem overfitted."
   ]
  },
  {
   "cell_type": "markdown",
   "id": "6c53e6d5-c307-40ac-81cc-13653b3e9694",
   "metadata": {},
   "source": [
    "### Confusion Matrix <a class=\"anchor\" id=\"confusion-matrix\"></a>\n",
    "\n",
    "We can create a confusion matrix using the best model, the 5-fold cross validation logisitic regression model. We can also print the classification report to see the different scores."
   ]
  },
  {
   "cell_type": "code",
   "execution_count": 39,
   "id": "15460637-d790-406c-b598-e7f5f5e46919",
   "metadata": {},
   "outputs": [
    {
     "name": "stdout",
     "output_type": "stream",
     "text": [
      "              precision    recall  f1-score   support\n",
      "\n",
      "           0       0.75      0.71      0.73      1809\n",
      "           1       0.80      0.82      0.81      2458\n",
      "\n",
      "    accuracy                           0.78      4267\n",
      "   macro avg       0.77      0.77      0.77      4267\n",
      "weighted avg       0.78      0.78      0.78      4267\n",
      "\n"
     ]
    },
    {
     "data": {
      "image/png": "[encoded data removed]",
      "text/plain": [
       "<Figure size 640x480 with 2 Axes>"
      ]
     },
     "metadata": {},
     "output_type": "display_data"
    }
   ],
   "source": [
    "# Confusion matrix with our best_LR_model\n",
    "ConfusionMatrixDisplay.from_estimator(best_LR_model, X_test_scaled, y_test, cmap = 'cividis')\n",
    "\n",
    "# Get class predictions\n",
    "y_pred = best_LR_model.predict(X_test_scaled)\n",
    "\n",
    "# Print classification report\n",
    "print(classification_report(y_test, y_pred))"
   ]
  },
  {
   "cell_type": "markdown",
   "id": "774874d9-6574-4fc7-b033-38376bb792fc",
   "metadata": {},
   "source": [
    "Let's recall what the Confusion Matrix tells us.\n",
    "\n",
    "|     |  Predicted Class 0  |   Predicted Class 1  | \n",
    "| --------- |:---:|:---:|\n",
    "|True Class 0| **TN** | **FP** | \n",
    "|True Class 1| **FN** | **TP** | "
   ]
  },
  {
   "cell_type": "markdown",
   "id": "92c45390-2aea-4e71-85ed-78afcb437e23",
   "metadata": {},
   "source": [
    "Looking at the classification report, we see that the `accuracy` is **0.78**. An accuracy of 0.78 means that the model correctly predicted the class for **78%** of all instances in the test set.\n",
    "\n",
    "`Precision` measures the accuracy of the positive predictions. For class 0, a precision of **0.75** means that out of all instances predicted as class 0, **75%** were correctly classified as class 0 (true positives), while the **remaining 25%** were incorrectly classified as class 0 (false positives). Similarly, for class 1, a precision of **0.80** indicates that **80%** of instances predicted as class 1 were true positives, and **20%** were false positives.\n",
    "\n",
    "`Recall` measures the ability to correctly identify positive instances. For class 0, a recall of **0.71** means that out of all instances that actually belong to class 0, **71%** were correctly identified as class 0 (true positives), while the **remaining 29%** were incorrectly classified as not class 0 (false negatives). Likewise, for class 1, a recall of **0.82** indicates that **82%** of instances belonging to class 1 were true positives, and **18%** were false negatives.\n",
    "\n",
    "The `F1-score`, being the harmonic mean of precision and recall, provides a balance between these two metrics. It considers both false positives and false negatives, thus offering a more comprehensive evaluation of the model's performance. In this case, we can observe a reasonable balance between precision and recall for both class 0 and class 1.\n",
    "\n",
    "Overall, this model is performing well as indicated by the accuracy of **78%** and the balanced precision, recall, and F1-score for both classes. By examining these metrics alongside the confusion matrix, we gain a deeper understanding of the model's classification performance and its ability to correctly classify instances across different classes.\n",
    "\n",
    "[[Back to top]](toc)"
   ]
  },
  {
   "cell_type": "markdown",
   "id": "83d8a291-6980-432f-a2b1-d6eaad9b4f15",
   "metadata": {},
   "source": [
    "***\n",
    "\n",
    "### Creating a New Feature <a class=\"anchor\" id=\"new-feature\"></a>\n",
    "\n",
    "When observing the features, we want to see how the features impact the accuracy of our model. We also want to see what other features we can think of that can improve our accuracy score. \n",
    "\n",
    "We wanted to create a feature that informs us what season the review was made. This is an important feature because seasonality affects the type of trip that was made and if was a personal or business trip. It may also influence the type of review that was made. This is why we should add this feature as it will improve our model accuracy.\n",
    "\n",
    "Since our data is already split into training and testing sets, we can create the feature in each individual set. Since we want to add a feature to the dataset, let's create a copy of the training and testing dataframes so that we do not make changes to the original dataset. Then, we can take a look at the `month_of_review` column in the training and testing set."
   ]
  },
  {
   "cell_type": "code",
   "execution_count": 40,
   "id": "4c962d5a-61ff-4b0f-92b8-87ff8919c550",
   "metadata": {},
   "outputs": [],
   "source": [
    "# Creating a copy of the training and testing dataframes\n",
    "train_final = train.copy()\n",
    "test_final = test.copy()"
   ]
  },
  {
   "cell_type": "code",
   "execution_count": 41,
   "id": "d686dbf2-c90b-4299-b5bb-fe6292fadb6e",
   "metadata": {},
   "outputs": [
    {
     "data": {
      "text/plain": [
       "3     1192\n",
       "2     1192\n",
       "12    1146\n",
       "1     1105\n",
       "8     1097\n",
       "4     1095\n",
       "5     1049\n",
       "7     1030\n",
       "6     1011\n",
       "10     992\n",
       "11     965\n",
       "9      924\n",
       "Name: month_of_review, dtype: int64"
      ]
     },
     "execution_count": 41,
     "metadata": {},
     "output_type": "execute_result"
    }
   ],
   "source": [
    "# Viewing the \"month_of_review\" in the training set\n",
    "train_final['month_of_review'].value_counts()"
   ]
  },
  {
   "cell_type": "code",
   "execution_count": 42,
   "id": "c801a6c1-6443-4ae9-8c54-a83beb9285a1",
   "metadata": {},
   "outputs": [
    {
     "data": {
      "text/plain": [
       "1     397\n",
       "2     397\n",
       "12    388\n",
       "3     374\n",
       "5     374\n",
       "8     365\n",
       "4     356\n",
       "10    355\n",
       "7     346\n",
       "6     332\n",
       "11    319\n",
       "9     264\n",
       "Name: month_of_review, dtype: int64"
      ]
     },
     "execution_count": 42,
     "metadata": {},
     "output_type": "execute_result"
    }
   ],
   "source": [
    "# Viewing the \"month_of_review\" in the testing set\n",
    "test_final['month_of_review'].value_counts()"
   ]
  },
  {
   "cell_type": "markdown",
   "id": "e694c373-076d-43d3-86c2-80e5cbd676b3",
   "metadata": {},
   "source": [
    "Now, we know what values are in the `month_of_review` column for both the training and testing sets. We can create a function to input the season based on the month number.\n",
    "\n",
    "The function we want to create takes in the month number and based on the rules we set, will create a new column in the dataframe called `season`, and will input the correct season. The rules are as follows: months that are 12, 1, and 2 are classified as `winter`, months that are 3, 4, and 5 are classified as `spring`, months that are 6, 7, and 8 are classified as `summer`, and months that are 9, 10, and 11 are classified as `fall`. We will then apply the function to both of our training and testing dataframes."
   ]
  },
  {
   "cell_type": "code",
   "execution_count": 43,
   "id": "eec0c140-2901-4219-9d87-f23409965173",
   "metadata": {},
   "outputs": [],
   "source": [
    "def get_season(month):\n",
    "    '''\n",
    "    This function takes a month as input. Depending on the \n",
    "    month number, one of four seasons will be returned.\n",
    "    \n",
    "    Parameters:\n",
    "    -----------\n",
    "    month: month in numerical format\n",
    "    \n",
    "    Returns:\n",
    "    --------\n",
    "    output: one of four seasons\n",
    "    \n",
    "    ''' \n",
    "    if month in [12, 1, 2]:\n",
    "        return 'winter'\n",
    "    elif month in [3, 4, 5]:\n",
    "        return 'spring'\n",
    "    elif month in [6, 7, 8]:\n",
    "        return 'summer'\n",
    "    else:\n",
    "        return 'fall'"
   ]
  },
  {
   "cell_type": "code",
   "execution_count": 44,
   "id": "de8e9f99-5415-4d93-87f5-dd60a8242aeb",
   "metadata": {},
   "outputs": [],
   "source": [
    "# Apply the get_season function to train and test dataframes\n",
    "# Input will be new column named \"season\"\n",
    "train_final['season'] = train_final['month_of_review'].apply(get_season)\n",
    "test_final['season'] = test_final['month_of_review'].apply(get_season)"
   ]
  },
  {
   "cell_type": "code",
   "execution_count": 45,
   "id": "b35de97a-1336-4154-994d-2e0062284528",
   "metadata": {},
   "outputs": [
    {
     "name": "stdout",
     "output_type": "stream",
     "text": [
      "winter    3443\n",
      "spring    3336\n",
      "summer    3138\n",
      "fall      2881\n",
      "Name: season, dtype: int64\n",
      "winter    1182\n",
      "spring    1104\n",
      "summer    1043\n",
      "fall       938\n",
      "Name: season, dtype: int64\n"
     ]
    }
   ],
   "source": [
    "# Viewing the values counts of the seasons in the training and testing datasets\n",
    "print(train_final['season'].value_counts())\n",
    "print(test_final['season'].value_counts())"
   ]
  },
  {
   "cell_type": "markdown",
   "id": "a87e8448-cf7c-41e7-b8a0-a3e79ce56c9a",
   "metadata": {},
   "source": [
    "Now that we created the `season` column for both dataframes, we want to one-hot encode (OHE) this column to change the categorical column into a numerical column. We see that `fall` has the least amount of value counts. Therefore, when we OHE the `season` column, we can choose to drop the \"fall\" column from both dataframes."
   ]
  },
  {
   "cell_type": "code",
   "execution_count": 46,
   "id": "c68db447-cf18-4455-a631-767bfa694557",
   "metadata": {},
   "outputs": [],
   "source": [
    "# OHE \"season\" column in training and testing dataframes\n",
    "train_dummies = pd.get_dummies(train_final['season'])\n",
    "train_dummies.drop(columns = 'fall', inplace = True)\n",
    "\n",
    "test_dummies = pd.get_dummies(test_final['season'])\n",
    "test_dummies.drop(columns = 'fall', inplace = True)"
   ]
  },
  {
   "cell_type": "markdown",
   "id": "a2e110f7-8f6b-4408-8326-a3b3eb1b0658",
   "metadata": {},
   "source": [
    "Now that we have OHE the `season` column in both dataframes, we can add the dummy dataframe to the original dataframe. We can also drop the original `season` column."
   ]
  },
  {
   "cell_type": "code",
   "execution_count": 47,
   "id": "baf38f7c-94e3-472d-9887-ae68d1829534",
   "metadata": {},
   "outputs": [],
   "source": [
    "# Combining dummy df and original dataframe for both the training and testing data\n",
    "train_final = pd.concat([train_final, train_dummies], axis = 1)\n",
    "test_final = pd.concat([test_final, test_dummies], axis = 1)"
   ]
  },
  {
   "cell_type": "code",
   "execution_count": 48,
   "id": "55a8edd9-5185-4d27-a369-17c659dfab19",
   "metadata": {},
   "outputs": [],
   "source": [
    "# Dropping the \"season\" column from both dataframes\n",
    "train_final.drop(columns = 'season', inplace = True)\n",
    "test_final.drop(columns = 'season', inplace = True)"
   ]
  },
  {
   "cell_type": "code",
   "execution_count": 49,
   "id": "261480e9-3a5c-41af-9304-207133dd77c1",
   "metadata": {},
   "outputs": [
    {
     "data": {
      "text/html": [
       "<div>\n",
       "<style scoped>\n",
       "    .dataframe tbody tr th:only-of-type {\n",
       "        vertical-align: middle;\n",
       "    }\n",
       "\n",
       "    .dataframe tbody tr th {\n",
       "        vertical-align: top;\n",
       "    }\n",
       "\n",
       "    .dataframe thead th {\n",
       "        text-align: right;\n",
       "    }\n",
       "</style>\n",
       "<table border=\"1\" class=\"dataframe\">\n",
       "  <thead>\n",
       "    <tr style=\"text-align: right;\">\n",
       "      <th></th>\n",
       "      <th>Additional_Number_of_Scoring</th>\n",
       "      <th>Average_Score</th>\n",
       "      <th>Review_Total_Negative_Word_Counts</th>\n",
       "      <th>Total_Number_of_Reviews</th>\n",
       "      <th>Review_Total_Positive_Word_Counts</th>\n",
       "      <th>Total_Number_of_Reviews_Reviewer_Has_Given</th>\n",
       "      <th>days_since_review</th>\n",
       "      <th>lat</th>\n",
       "      <th>lng</th>\n",
       "      <th>weekday_of_review</th>\n",
       "      <th>...</th>\n",
       "      <th>n_write</th>\n",
       "      <th>n_wrong</th>\n",
       "      <th>n_year</th>\n",
       "      <th>n_yes</th>\n",
       "      <th>n_yet</th>\n",
       "      <th>n_young</th>\n",
       "      <th>rating</th>\n",
       "      <th>spring</th>\n",
       "      <th>summer</th>\n",
       "      <th>winter</th>\n",
       "    </tr>\n",
       "  </thead>\n",
       "  <tbody>\n",
       "    <tr>\n",
       "      <th>0</th>\n",
       "      <td>620</td>\n",
       "      <td>9.0</td>\n",
       "      <td>0</td>\n",
       "      <td>1974</td>\n",
       "      <td>164</td>\n",
       "      <td>1</td>\n",
       "      <td>562</td>\n",
       "      <td>51.506558</td>\n",
       "      <td>-0.004514</td>\n",
       "      <td>1</td>\n",
       "      <td>...</td>\n",
       "      <td>0</td>\n",
       "      <td>0</td>\n",
       "      <td>0</td>\n",
       "      <td>0</td>\n",
       "      <td>0</td>\n",
       "      <td>0</td>\n",
       "      <td>1</td>\n",
       "      <td>0</td>\n",
       "      <td>0</td>\n",
       "      <td>1</td>\n",
       "    </tr>\n",
       "    <tr>\n",
       "      <th>1</th>\n",
       "      <td>1258</td>\n",
       "      <td>9.4</td>\n",
       "      <td>6</td>\n",
       "      <td>4204</td>\n",
       "      <td>4</td>\n",
       "      <td>5</td>\n",
       "      <td>276</td>\n",
       "      <td>51.502435</td>\n",
       "      <td>-0.000250</td>\n",
       "      <td>0</td>\n",
       "      <td>...</td>\n",
       "      <td>0</td>\n",
       "      <td>0</td>\n",
       "      <td>0</td>\n",
       "      <td>0</td>\n",
       "      <td>0</td>\n",
       "      <td>0</td>\n",
       "      <td>1</td>\n",
       "      <td>0</td>\n",
       "      <td>0</td>\n",
       "      <td>0</td>\n",
       "    </tr>\n",
       "    <tr>\n",
       "      <th>2</th>\n",
       "      <td>995</td>\n",
       "      <td>8.1</td>\n",
       "      <td>2</td>\n",
       "      <td>3826</td>\n",
       "      <td>38</td>\n",
       "      <td>1</td>\n",
       "      <td>129</td>\n",
       "      <td>51.504348</td>\n",
       "      <td>-0.033444</td>\n",
       "      <td>0</td>\n",
       "      <td>...</td>\n",
       "      <td>0</td>\n",
       "      <td>0</td>\n",
       "      <td>0</td>\n",
       "      <td>0</td>\n",
       "      <td>0</td>\n",
       "      <td>0</td>\n",
       "      <td>1</td>\n",
       "      <td>1</td>\n",
       "      <td>0</td>\n",
       "      <td>0</td>\n",
       "    </tr>\n",
       "    <tr>\n",
       "      <th>3</th>\n",
       "      <td>853</td>\n",
       "      <td>8.4</td>\n",
       "      <td>7</td>\n",
       "      <td>2726</td>\n",
       "      <td>10</td>\n",
       "      <td>10</td>\n",
       "      <td>164</td>\n",
       "      <td>51.507377</td>\n",
       "      <td>0.038657</td>\n",
       "      <td>0</td>\n",
       "      <td>...</td>\n",
       "      <td>0</td>\n",
       "      <td>0</td>\n",
       "      <td>0</td>\n",
       "      <td>0</td>\n",
       "      <td>0</td>\n",
       "      <td>0</td>\n",
       "      <td>0</td>\n",
       "      <td>0</td>\n",
       "      <td>0</td>\n",
       "      <td>1</td>\n",
       "    </tr>\n",
       "    <tr>\n",
       "      <th>4</th>\n",
       "      <td>1243</td>\n",
       "      <td>8.1</td>\n",
       "      <td>11</td>\n",
       "      <td>6608</td>\n",
       "      <td>8</td>\n",
       "      <td>69</td>\n",
       "      <td>639</td>\n",
       "      <td>51.513556</td>\n",
       "      <td>-0.180002</td>\n",
       "      <td>1</td>\n",
       "      <td>...</td>\n",
       "      <td>0</td>\n",
       "      <td>0</td>\n",
       "      <td>0</td>\n",
       "      <td>0</td>\n",
       "      <td>0</td>\n",
       "      <td>0</td>\n",
       "      <td>0</td>\n",
       "      <td>0</td>\n",
       "      <td>0</td>\n",
       "      <td>0</td>\n",
       "    </tr>\n",
       "  </tbody>\n",
       "</table>\n",
       "<p>5 rows × 2747 columns</p>\n",
       "</div>"
      ],
      "text/plain": [
       "   Additional_Number_of_Scoring  Average_Score  \\\n",
       "0                           620            9.0   \n",
       "1                          1258            9.4   \n",
       "2                           995            8.1   \n",
       "3                           853            8.4   \n",
       "4                          1243            8.1   \n",
       "\n",
       "   Review_Total_Negative_Word_Counts  Total_Number_of_Reviews  \\\n",
       "0                                  0                     1974   \n",
       "1                                  6                     4204   \n",
       "2                                  2                     3826   \n",
       "3                                  7                     2726   \n",
       "4                                 11                     6608   \n",
       "\n",
       "   Review_Total_Positive_Word_Counts  \\\n",
       "0                                164   \n",
       "1                                  4   \n",
       "2                                 38   \n",
       "3                                 10   \n",
       "4                                  8   \n",
       "\n",
       "   Total_Number_of_Reviews_Reviewer_Has_Given  days_since_review        lat  \\\n",
       "0                                           1                562  51.506558   \n",
       "1                                           5                276  51.502435   \n",
       "2                                           1                129  51.504348   \n",
       "3                                          10                164  51.507377   \n",
       "4                                          69                639  51.513556   \n",
       "\n",
       "        lng  weekday_of_review  ...  n_write  n_wrong  n_year  n_yes  n_yet  \\\n",
       "0 -0.004514                  1  ...        0        0       0      0      0   \n",
       "1 -0.000250                  0  ...        0        0       0      0      0   \n",
       "2 -0.033444                  0  ...        0        0       0      0      0   \n",
       "3  0.038657                  0  ...        0        0       0      0      0   \n",
       "4 -0.180002                  1  ...        0        0       0      0      0   \n",
       "\n",
       "   n_young  rating  spring  summer  winter  \n",
       "0        0       1       0       0       1  \n",
       "1        0       1       0       0       0  \n",
       "2        0       1       1       0       0  \n",
       "3        0       0       0       0       1  \n",
       "4        0       0       0       0       0  \n",
       "\n",
       "[5 rows x 2747 columns]"
      ]
     },
     "execution_count": 49,
     "metadata": {},
     "output_type": "execute_result"
    }
   ],
   "source": [
    "# Checking the training dataframe\n",
    "train_final.head()"
   ]
  },
  {
   "cell_type": "code",
   "execution_count": 50,
   "id": "6e7f6c9b-a344-4483-a3fd-85ed465b76cb",
   "metadata": {},
   "outputs": [
    {
     "data": {
      "text/html": [
       "<div>\n",
       "<style scoped>\n",
       "    .dataframe tbody tr th:only-of-type {\n",
       "        vertical-align: middle;\n",
       "    }\n",
       "\n",
       "    .dataframe tbody tr th {\n",
       "        vertical-align: top;\n",
       "    }\n",
       "\n",
       "    .dataframe thead th {\n",
       "        text-align: right;\n",
       "    }\n",
       "</style>\n",
       "<table border=\"1\" class=\"dataframe\">\n",
       "  <thead>\n",
       "    <tr style=\"text-align: right;\">\n",
       "      <th></th>\n",
       "      <th>Additional_Number_of_Scoring</th>\n",
       "      <th>Average_Score</th>\n",
       "      <th>Review_Total_Negative_Word_Counts</th>\n",
       "      <th>Total_Number_of_Reviews</th>\n",
       "      <th>Review_Total_Positive_Word_Counts</th>\n",
       "      <th>Total_Number_of_Reviews_Reviewer_Has_Given</th>\n",
       "      <th>days_since_review</th>\n",
       "      <th>lat</th>\n",
       "      <th>lng</th>\n",
       "      <th>weekday_of_review</th>\n",
       "      <th>...</th>\n",
       "      <th>n_write</th>\n",
       "      <th>n_wrong</th>\n",
       "      <th>n_year</th>\n",
       "      <th>n_yes</th>\n",
       "      <th>n_yet</th>\n",
       "      <th>n_young</th>\n",
       "      <th>rating</th>\n",
       "      <th>spring</th>\n",
       "      <th>summer</th>\n",
       "      <th>winter</th>\n",
       "    </tr>\n",
       "  </thead>\n",
       "  <tbody>\n",
       "    <tr>\n",
       "      <th>0</th>\n",
       "      <td>1005</td>\n",
       "      <td>8.3</td>\n",
       "      <td>0</td>\n",
       "      <td>3469</td>\n",
       "      <td>6</td>\n",
       "      <td>2</td>\n",
       "      <td>297</td>\n",
       "      <td>51.559096</td>\n",
       "      <td>-0.284704</td>\n",
       "      <td>0</td>\n",
       "      <td>...</td>\n",
       "      <td>0</td>\n",
       "      <td>0</td>\n",
       "      <td>0</td>\n",
       "      <td>0</td>\n",
       "      <td>0</td>\n",
       "      <td>0</td>\n",
       "      <td>0</td>\n",
       "      <td>0</td>\n",
       "      <td>0</td>\n",
       "      <td>0</td>\n",
       "    </tr>\n",
       "    <tr>\n",
       "      <th>1</th>\n",
       "      <td>487</td>\n",
       "      <td>8.8</td>\n",
       "      <td>46</td>\n",
       "      <td>1805</td>\n",
       "      <td>121</td>\n",
       "      <td>1</td>\n",
       "      <td>4</td>\n",
       "      <td>51.474469</td>\n",
       "      <td>-0.019428</td>\n",
       "      <td>6</td>\n",
       "      <td>...</td>\n",
       "      <td>0</td>\n",
       "      <td>0</td>\n",
       "      <td>0</td>\n",
       "      <td>0</td>\n",
       "      <td>0</td>\n",
       "      <td>0</td>\n",
       "      <td>1</td>\n",
       "      <td>0</td>\n",
       "      <td>1</td>\n",
       "      <td>0</td>\n",
       "    </tr>\n",
       "    <tr>\n",
       "      <th>2</th>\n",
       "      <td>570</td>\n",
       "      <td>9.3</td>\n",
       "      <td>0</td>\n",
       "      <td>2319</td>\n",
       "      <td>9</td>\n",
       "      <td>1</td>\n",
       "      <td>590</td>\n",
       "      <td>51.505696</td>\n",
       "      <td>-0.101525</td>\n",
       "      <td>1</td>\n",
       "      <td>...</td>\n",
       "      <td>0</td>\n",
       "      <td>0</td>\n",
       "      <td>0</td>\n",
       "      <td>0</td>\n",
       "      <td>0</td>\n",
       "      <td>0</td>\n",
       "      <td>1</td>\n",
       "      <td>0</td>\n",
       "      <td>0</td>\n",
       "      <td>1</td>\n",
       "    </tr>\n",
       "    <tr>\n",
       "      <th>3</th>\n",
       "      <td>2623</td>\n",
       "      <td>8.7</td>\n",
       "      <td>19</td>\n",
       "      <td>12158</td>\n",
       "      <td>0</td>\n",
       "      <td>2</td>\n",
       "      <td>269</td>\n",
       "      <td>51.500961</td>\n",
       "      <td>-0.116591</td>\n",
       "      <td>0</td>\n",
       "      <td>...</td>\n",
       "      <td>0</td>\n",
       "      <td>0</td>\n",
       "      <td>0</td>\n",
       "      <td>0</td>\n",
       "      <td>0</td>\n",
       "      <td>0</td>\n",
       "      <td>0</td>\n",
       "      <td>0</td>\n",
       "      <td>0</td>\n",
       "      <td>0</td>\n",
       "    </tr>\n",
       "    <tr>\n",
       "      <th>4</th>\n",
       "      <td>365</td>\n",
       "      <td>8.1</td>\n",
       "      <td>13</td>\n",
       "      <td>1567</td>\n",
       "      <td>0</td>\n",
       "      <td>2</td>\n",
       "      <td>373</td>\n",
       "      <td>51.515125</td>\n",
       "      <td>-0.160066</td>\n",
       "      <td>1</td>\n",
       "      <td>...</td>\n",
       "      <td>0</td>\n",
       "      <td>0</td>\n",
       "      <td>0</td>\n",
       "      <td>0</td>\n",
       "      <td>0</td>\n",
       "      <td>0</td>\n",
       "      <td>0</td>\n",
       "      <td>0</td>\n",
       "      <td>1</td>\n",
       "      <td>0</td>\n",
       "    </tr>\n",
       "  </tbody>\n",
       "</table>\n",
       "<p>5 rows × 2747 columns</p>\n",
       "</div>"
      ],
      "text/plain": [
       "   Additional_Number_of_Scoring  Average_Score  \\\n",
       "0                          1005            8.3   \n",
       "1                           487            8.8   \n",
       "2                           570            9.3   \n",
       "3                          2623            8.7   \n",
       "4                           365            8.1   \n",
       "\n",
       "   Review_Total_Negative_Word_Counts  Total_Number_of_Reviews  \\\n",
       "0                                  0                     3469   \n",
       "1                                 46                     1805   \n",
       "2                                  0                     2319   \n",
       "3                                 19                    12158   \n",
       "4                                 13                     1567   \n",
       "\n",
       "   Review_Total_Positive_Word_Counts  \\\n",
       "0                                  6   \n",
       "1                                121   \n",
       "2                                  9   \n",
       "3                                  0   \n",
       "4                                  0   \n",
       "\n",
       "   Total_Number_of_Reviews_Reviewer_Has_Given  days_since_review        lat  \\\n",
       "0                                           2                297  51.559096   \n",
       "1                                           1                  4  51.474469   \n",
       "2                                           1                590  51.505696   \n",
       "3                                           2                269  51.500961   \n",
       "4                                           2                373  51.515125   \n",
       "\n",
       "        lng  weekday_of_review  ...  n_write  n_wrong  n_year  n_yes  n_yet  \\\n",
       "0 -0.284704                  0  ...        0        0       0      0      0   \n",
       "1 -0.019428                  6  ...        0        0       0      0      0   \n",
       "2 -0.101525                  1  ...        0        0       0      0      0   \n",
       "3 -0.116591                  0  ...        0        0       0      0      0   \n",
       "4 -0.160066                  1  ...        0        0       0      0      0   \n",
       "\n",
       "   n_young  rating  spring  summer  winter  \n",
       "0        0       0       0       0       0  \n",
       "1        0       1       0       1       0  \n",
       "2        0       1       0       0       1  \n",
       "3        0       0       0       0       0  \n",
       "4        0       0       0       1       0  \n",
       "\n",
       "[5 rows x 2747 columns]"
      ]
     },
     "execution_count": 50,
     "metadata": {},
     "output_type": "execute_result"
    }
   ],
   "source": [
    "# Checking the testing dataframe\n",
    "test_final.head()"
   ]
  },
  {
   "cell_type": "markdown",
   "id": "9190532a-97a7-4e6f-b07c-ebbf5ccba4e0",
   "metadata": {},
   "source": [
    "#### Identify independent and dependent variables, then scale the data\n",
    "\n",
    "Now that we have successfully added the new feature to the dataframe, we can run the 5-fold cross validation on a logistic regression model that we did [earlier](#5-fold) on our new datasets.\n",
    "\n",
    "We first need to identify the independent and dependent variables. Once they have been identified, we would need to scale the data before fitting it into our model."
   ]
  },
  {
   "cell_type": "code",
   "execution_count": 51,
   "id": "e5a853e5-f064-409d-bfd6-dd041f4006fa",
   "metadata": {},
   "outputs": [
    {
     "name": "stdout",
     "output_type": "stream",
     "text": [
      "Shape of the independent variables in the trainset:  (12798, 2746)\n",
      "Shape of the dependent variables in the trainset:  (12798,)\n",
      "Shape of the independent variables in the testset:  (4267, 2746)\n",
      "Shape of the dependent variables in the testset:  (4267,)\n"
     ]
    }
   ],
   "source": [
    "# Define independent and dependent train variables\n",
    "X_train_new = train_final.drop(columns = 'rating')\n",
    "y_train_new = train_final.rating\n",
    "\n",
    "# Define independent and dependent test variables\n",
    "X_test_new = test_final.drop(columns = 'rating')\n",
    "y_test_new = test_final.rating\n",
    "\n",
    "# Shape of the independent and dependent variables\n",
    "print('Shape of the independent variables in the trainset: ', X_train_new.shape)\n",
    "print('Shape of the dependent variables in the trainset: ', y_train_new.shape)\n",
    "print('Shape of the independent variables in the testset: ', X_test_new.shape)\n",
    "print('Shape of the dependent variables in the testset: ', y_test_new.shape)"
   ]
  },
  {
   "cell_type": "code",
   "execution_count": 52,
   "id": "aa342286-f6f0-4163-ae07-01e8a8a7b878",
   "metadata": {},
   "outputs": [],
   "source": [
    "# Normalize the data\n",
    "scaler = StandardScaler()\n",
    "scaler.fit(X_train_new)\n",
    "X_train_new_scaled = scaler.transform(X_train_new)\n",
    "X_test_new_scaled = scaler.transform(X_test_new)"
   ]
  },
  {
   "cell_type": "markdown",
   "id": "e2129ffc-7712-44bc-82a7-19240c360d10",
   "metadata": {},
   "source": [
    "#### 5-fold cross validation on logistic regression model with new feature"
   ]
  },
  {
   "cell_type": "code",
   "execution_count": 53,
   "id": "7cb2f6c3-eef3-4f95-8845-b189da7c9826",
   "metadata": {},
   "outputs": [],
   "source": [
    "# Looping through C values\n",
    "cross_validation_scores2 = []\n",
    "\n",
    "C_range2 = np.array([.00000001,.0000001,.000001,.00001,.0001,.001,.1,\\\n",
    "                1,10,100,1000,10000,100000,1000000,10000000,100000000,1000000000])\n",
    "\n",
    "# Do some cross validation\n",
    "for c in C_range2:\n",
    "    LR_model_cv2 = LogisticRegression(C=c,random_state=1, max_iter = 1000)\n",
    "    \n",
    "    # the cross validation score (mean of scores from all folds)\n",
    "    cv_score2 = np.mean(cross_val_score(LR_model_cv2, X_train_new_scaled, y_train_new, cv = 5))\n",
    "    \n",
    "    cross_validation_scores2.append(cv_score2)"
   ]
  },
  {
   "cell_type": "code",
   "execution_count": 54,
   "id": "22b3dc5a-e0ac-4257-bcd7-1fd3146f2949",
   "metadata": {},
   "outputs": [
    {
     "data": {
      "image/png": "[encoded data removed]",
      "text/plain": [
       "<Figure size 640x480 with 1 Axes>"
      ]
     },
     "metadata": {},
     "output_type": "display_data"
    },
    {
     "name": "stdout",
     "output_type": "stream",
     "text": [
      "The best model has C =  0.001\n"
     ]
    }
   ],
   "source": [
    "# Plot graph\n",
    "plt.figure()\n",
    "plt.plot(C_range2, cross_validation_scores2, label = \"Cross Validation Score\", marker = '.')\n",
    "plt.legend()\n",
    "plt.xscale(\"log\")\n",
    "plt.xlabel('Regularization Parameter: C')\n",
    "plt.ylabel('Cross Validation Score')\n",
    "plt.grid()\n",
    "plt.show()\n",
    "\n",
    "which_max2 = np.array(cross_validation_scores2).argmax()\n",
    "\n",
    "print(\"The best model has C = \", C_range[which_max2])"
   ]
  },
  {
   "cell_type": "markdown",
   "id": "09d6d10a-6380-456c-b5f6-481045e6e44f",
   "metadata": {},
   "source": [
    "From the plot, we see that the best model had the C parameter equal to **0.001**. We will now instantiate and fit the model with the optimal C value and find the training and testing accuracy scores. "
   ]
  },
  {
   "cell_type": "code",
   "execution_count": 55,
   "id": "98dc3f3e-c1a8-4dd5-b9d7-36e15e75022e",
   "metadata": {},
   "outputs": [
    {
     "name": "stdout",
     "output_type": "stream",
     "text": [
      "Train Accuracy Score: 0.854\n",
      "Test Accuracy Score: 0.778\n"
     ]
    }
   ],
   "source": [
    "# Instantiate model\n",
    "best_LR_model2 = LogisticRegression(C = 0.001, random_state=1, max_iter = 1000)\n",
    "\n",
    "# Fit model\n",
    "best_LR_model2.fit(X_train_new_scaled, y_train_new)\n",
    "\n",
    "# Score model\n",
    "print(f'Train Accuracy Score: {(best_LR_model2.score(X_train_new_scaled, y_train_new)).round(3)}')\n",
    "print(f'Test Accuracy Score: {(best_LR_model2.score(X_test_new_scaled, y_test_new)).round(3)}')"
   ]
  },
  {
   "cell_type": "markdown",
   "id": "84956c70-c7af-4ce3-85b9-883d44e33a31",
   "metadata": {},
   "source": [
    "| Model | Hyperparamter | Train Score | Test Score |\n",
    "| :-: | :-: | :-: | :-: |\n",
    "| 5-fold Cross Validation LR Model | C = 0.001, solver = 'lbfgs', max_iter = 1000 | 0.854 | 0.778\n",
    "| 5-fold Cross Validation LR Model + new feature | C = 0.001, solver = 'lbfgs', max_iter = 1000 | 0.854 | 0.778 |"
   ]
  },
  {
   "cell_type": "markdown",
   "id": "9b39351e-0b02-46e1-9c7c-296b75c5fdc9",
   "metadata": {},
   "source": [
    "Sadly, the accuracy score did not improve. This may makes sense because we did not really add new information to the dataset. We only used an existing feature to create another feature."
   ]
  },
  {
   "cell_type": "code",
   "execution_count": 56,
   "id": "f8637982-f278-41e9-992e-db17f8312903",
   "metadata": {},
   "outputs": [
    {
     "name": "stdout",
     "output_type": "stream",
     "text": [
      "              precision    recall  f1-score   support\n",
      "\n",
      "           0       0.75      0.72      0.73      1809\n",
      "           1       0.80      0.82      0.81      2458\n",
      "\n",
      "    accuracy                           0.78      4267\n",
      "   macro avg       0.77      0.77      0.77      4267\n",
      "weighted avg       0.78      0.78      0.78      4267\n",
      "\n"
     ]
    },
    {
     "data": {
      "image/png": "[encoded data removed]",
      "text/plain": [
       "<Figure size 640x480 with 2 Axes>"
      ]
     },
     "metadata": {},
     "output_type": "display_data"
    }
   ],
   "source": [
    "# Confusion matrix with our best_LR_model\n",
    "ConfusionMatrixDisplay.from_estimator(best_LR_model2, X_test_new_scaled, y_test_new, cmap = 'cividis')\n",
    "\n",
    "# Get class predictions\n",
    "y_pred2 = best_LR_model2.predict(X_test_new_scaled)\n",
    "\n",
    "# Print classification report\n",
    "print(classification_report(y_test_new, y_pred2))"
   ]
  },
  {
   "cell_type": "markdown",
   "id": "782aef8a-dcfc-45c0-87c7-0b2b44fc8ac6",
   "metadata": {},
   "source": [
    "Like the confusion matrix done for the first 5-fold cross validation [above](#confusion-matrix), the values for precision, recall, f1_score, and accuracy are all the same. This showed that the new feature that we created did not impact the model at all."
   ]
  },
  {
   "cell_type": "markdown",
   "id": "646dd9f0-bd91-437b-a6ee-d878f07743c6",
   "metadata": {},
   "source": [
    "***\n",
    "\n",
    "## Conclusion <a class=\"anchor\" id=\"conclusion\"></a>\n",
    "\n",
    "In this notebook, we used the processed hotel reviews to model different machine learning algorithms. We created the base models and optimized the parameters to make better models. We created a new feature to see if it increased the accuracy of the model. We also used the confusion matrix and classification reports to see if we created the best model for our data. Unfortunately, the new feature did not improve the accuracy on our model. Further work is needed to create new features and then to see if the accuracy score of the model will improve.\n",
    "\n",
    "[[Back to top]](#toc)"
   ]
  },
  {
   "cell_type": "code",
   "execution_count": null,
   "id": "502b5d63-2c59-48b8-ae36-e26991c89ee9",
   "metadata": {},
   "outputs": [],
   "source": []
  }
 ],
 "metadata": {
  "kernelspec": {
   "display_name": "Python 3 (ipykernel)",
   "language": "python",
   "name": "python3"
  },
  "language_info": {
   "codemirror_mode": {
    "name": "ipython",
    "version": 3
   },
   "file_extension": ".py",
   "mimetype": "text/x-python",
   "name": "python",
   "nbconvert_exporter": "python",
   "pygments_lexer": "ipython3",
   "version": "3.10.9"
  }
 },
 "nbformat": 4,
 "nbformat_minor": 5
}
